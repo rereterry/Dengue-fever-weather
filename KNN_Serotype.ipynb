{
 "cells": [
  {
   "cell_type": "code",
   "execution_count": 1,
   "metadata": {},
   "outputs": [
    {
     "name": "stderr",
     "output_type": "stream",
     "text": [
      "/Users/pipiterry/anaconda/lib/python2.7/site-packages/sklearn/cross_validation.py:44: DeprecationWarning: This module was deprecated in version 0.18 in favor of the model_selection module into which all the refactored classes and functions are moved. Also note that the interface of the new CV iterators are different from that of this module. This module will be removed in 0.20.\n",
      "  \"This module will be removed in 0.20.\", DeprecationWarning)\n",
      "/Users/pipiterry/anaconda/lib/python2.7/site-packages/statsmodels/compat/pandas.py:56: FutureWarning: The pandas.core.datetools module is deprecated and will be removed in a future version. Please use the pandas.tseries module instead.\n",
      "  from pandas.core import datetools\n"
     ]
    }
   ],
   "source": [
    "%matplotlib inline \n",
    "import matplotlib.pyplot as plt\n",
    "import numpy as np\n",
    "import pandas as pd\n",
    "from scipy import stats\n",
    "import seaborn as sns\n",
    "import warnings\n",
    "import random\n",
    "from sklearn.cross_validation import KFold, cross_val_score, train_test_split\n",
    "from sklearn import metrics\n",
    "import statsmodels.api as sm\n",
    "import scipy.stats as stats \n",
    "from sklearn.linear_model import LogisticRegression , LinearRegression\n",
    "\n",
    "from datetime import datetime\n",
    "random.seed(datetime.now())\n",
    "warnings.filterwarnings('ignore')\n",
    "\n",
    "# Make plots larger\n",
    "plt.rcParams['figure.figsize'] = (10, 6)\n",
    "\n",
    "import os.path\n",
    "userhome = os.path.expanduser('~')\n",
    "csvfile = os.path.join(userhome, 'Desktop', 'final', 'Dengue_Daily_EN.csv')\n",
    "df = pd.read_csv(csvfile)"
   ]
  },
  {
   "cell_type": "code",
   "execution_count": 2,
   "metadata": {},
   "outputs": [
    {
     "data": {
      "text/html": [
       "<div>\n",
       "<style>\n",
       "    .dataframe thead tr:only-child th {\n",
       "        text-align: right;\n",
       "    }\n",
       "\n",
       "    .dataframe thead th {\n",
       "        text-align: left;\n",
       "    }\n",
       "\n",
       "    .dataframe tbody tr th {\n",
       "        vertical-align: top;\n",
       "    }\n",
       "</style>\n",
       "<table border=\"1\" class=\"dataframe\">\n",
       "  <thead>\n",
       "    <tr style=\"text-align: right;\">\n",
       "      <th></th>\n",
       "      <th>Date_Onset</th>\n",
       "      <th>Date_Notification</th>\n",
       "      <th>Sex</th>\n",
       "      <th>Age_Group</th>\n",
       "      <th>County_living</th>\n",
       "      <th>Township_living</th>\n",
       "      <th>Enumeration_unit</th>\n",
       "      <th>Enumeration_unit_long</th>\n",
       "      <th>Enumeration_unit_lat</th>\n",
       "      <th>First_level_dissemination_unit</th>\n",
       "      <th>Second_level_dissemination_unit</th>\n",
       "      <th>Imported</th>\n",
       "      <th>Number_of_confirmed_cases</th>\n",
       "      <th>Serotype</th>\n",
       "      <th>MOI_County_living_Code</th>\n",
       "      <th>MOI_Township_living_Code</th>\n",
       "      <th>MOI_County_living</th>\n",
       "      <th>MOI_Township_living</th>\n",
       "    </tr>\n",
       "  </thead>\n",
       "  <tbody>\n",
       "    <tr>\n",
       "      <th>0</th>\n",
       "      <td>1998/01/02</td>\n",
       "      <td>1998/01/07</td>\n",
       "      <td>M</td>\n",
       "      <td>40-44</td>\n",
       "      <td>Pingtung County</td>\n",
       "      <td>Pingtung City</td>\n",
       "      <td>A1320-0136-00</td>\n",
       "      <td>120.50588</td>\n",
       "      <td>22.46425</td>\n",
       "      <td>A1320-04-008</td>\n",
       "      <td>A1320-04</td>\n",
       "      <td>N</td>\n",
       "      <td>1</td>\n",
       "      <td>NaN</td>\n",
       "      <td>10013.0</td>\n",
       "      <td>1001301.0</td>\n",
       "      <td>Pingtung County</td>\n",
       "      <td>Pingtung City</td>\n",
       "    </tr>\n",
       "    <tr>\n",
       "      <th>1</th>\n",
       "      <td>1998/01/03</td>\n",
       "      <td>1998/01/14</td>\n",
       "      <td>M</td>\n",
       "      <td>30-34</td>\n",
       "      <td>Pingtung County</td>\n",
       "      <td>Donggang Township</td>\n",
       "      <td>A1303-0150-00</td>\n",
       "      <td>120.45364</td>\n",
       "      <td>22.46639</td>\n",
       "      <td>A1303-09-007</td>\n",
       "      <td>A1303-09</td>\n",
       "      <td>Y</td>\n",
       "      <td>1</td>\n",
       "      <td>DENV2</td>\n",
       "      <td>10013.0</td>\n",
       "      <td>1001303.0</td>\n",
       "      <td>Pingtung County</td>\n",
       "      <td>Donggang Township</td>\n",
       "    </tr>\n",
       "    <tr>\n",
       "      <th>2</th>\n",
       "      <td>1998/01/13</td>\n",
       "      <td>1998/02/18</td>\n",
       "      <td>M</td>\n",
       "      <td>55-59</td>\n",
       "      <td>Yilan County</td>\n",
       "      <td>Yilan City</td>\n",
       "      <td>A0201-0449-00</td>\n",
       "      <td>121.75143</td>\n",
       "      <td>24.74922</td>\n",
       "      <td>A0201-23-006</td>\n",
       "      <td>A0201-23</td>\n",
       "      <td>Y</td>\n",
       "      <td>1</td>\n",
       "      <td>NaN</td>\n",
       "      <td>10002.0</td>\n",
       "      <td>1000201.0</td>\n",
       "      <td>Yilan County</td>\n",
       "      <td>Yilan City</td>\n",
       "    </tr>\n",
       "    <tr>\n",
       "      <th>3</th>\n",
       "      <td>1998/01/15</td>\n",
       "      <td>1998/01/23</td>\n",
       "      <td>M</td>\n",
       "      <td>35-39</td>\n",
       "      <td>Kaohsiung City</td>\n",
       "      <td>Lingya Dist.</td>\n",
       "      <td>A6408-0153-00</td>\n",
       "      <td>120.33814</td>\n",
       "      <td>22.63032</td>\n",
       "      <td>A6408-10-010</td>\n",
       "      <td>A6408-10</td>\n",
       "      <td>N</td>\n",
       "      <td>1</td>\n",
       "      <td>NaN</td>\n",
       "      <td>64.0</td>\n",
       "      <td>6400800.0</td>\n",
       "      <td>Kaohsiung City</td>\n",
       "      <td>Lingya District</td>\n",
       "    </tr>\n",
       "    <tr>\n",
       "      <th>4</th>\n",
       "      <td>1998/01/20</td>\n",
       "      <td>1998/02/04</td>\n",
       "      <td>M</td>\n",
       "      <td>55-59</td>\n",
       "      <td>Yilan County</td>\n",
       "      <td>Wujie Township</td>\n",
       "      <td>A0209-0232-00</td>\n",
       "      <td>121.79826</td>\n",
       "      <td>24.68457</td>\n",
       "      <td>A0209-10-005</td>\n",
       "      <td>A0209-10</td>\n",
       "      <td>N</td>\n",
       "      <td>1</td>\n",
       "      <td>NaN</td>\n",
       "      <td>10002.0</td>\n",
       "      <td>1000209.0</td>\n",
       "      <td>Yilan County</td>\n",
       "      <td>Wujie Township</td>\n",
       "    </tr>\n",
       "  </tbody>\n",
       "</table>\n",
       "</div>"
      ],
      "text/plain": [
       "   Date_Onset Date_Notification Sex Age_Group    County_living  \\\n",
       "0  1998/01/02        1998/01/07   M     40-44  Pingtung County   \n",
       "1  1998/01/03        1998/01/14   M     30-34  Pingtung County   \n",
       "2  1998/01/13        1998/02/18   M     55-59     Yilan County   \n",
       "3  1998/01/15        1998/01/23   M     35-39   Kaohsiung City   \n",
       "4  1998/01/20        1998/02/04   M     55-59     Yilan County   \n",
       "\n",
       "     Township_living Enumeration_unit  Enumeration_unit_long  \\\n",
       "0      Pingtung City    A1320-0136-00              120.50588   \n",
       "1  Donggang Township    A1303-0150-00              120.45364   \n",
       "2         Yilan City    A0201-0449-00              121.75143   \n",
       "3       Lingya Dist.    A6408-0153-00              120.33814   \n",
       "4     Wujie Township    A0209-0232-00              121.79826   \n",
       "\n",
       "   Enumeration_unit_lat First_level_dissemination_unit  \\\n",
       "0              22.46425                   A1320-04-008   \n",
       "1              22.46639                   A1303-09-007   \n",
       "2              24.74922                   A0201-23-006   \n",
       "3              22.63032                   A6408-10-010   \n",
       "4              24.68457                   A0209-10-005   \n",
       "\n",
       "  Second_level_dissemination_unit Imported  Number_of_confirmed_cases  \\\n",
       "0                        A1320-04        N                          1   \n",
       "1                        A1303-09        Y                          1   \n",
       "2                        A0201-23        Y                          1   \n",
       "3                        A6408-10        N                          1   \n",
       "4                        A0209-10        N                          1   \n",
       "\n",
       "  Serotype  MOI_County_living_Code  MOI_Township_living_Code  \\\n",
       "0      NaN                 10013.0                 1001301.0   \n",
       "1    DENV2                 10013.0                 1001303.0   \n",
       "2      NaN                 10002.0                 1000201.0   \n",
       "3      NaN                    64.0                 6400800.0   \n",
       "4      NaN                 10002.0                 1000209.0   \n",
       "\n",
       "  MOI_County_living MOI_Township_living  \n",
       "0   Pingtung County       Pingtung City  \n",
       "1   Pingtung County   Donggang Township  \n",
       "2      Yilan County          Yilan City  \n",
       "3    Kaohsiung City     Lingya District  \n",
       "4      Yilan County      Wujie Township  "
      ]
     },
     "execution_count": 2,
     "metadata": {},
     "output_type": "execute_result"
    }
   ],
   "source": [
    "df.drop(df.columns[[1,7,8,14,15,16,17,19,26,27,28,29]], axis=1, inplace=True)\n",
    "df.head()"
   ]
  },
  {
   "cell_type": "code",
   "execution_count": 3,
   "metadata": {},
   "outputs": [
    {
     "data": {
      "image/png": "[encoded data removed]",
      "text/plain": [
       "<matplotlib.figure.Figure at 0x10388c090>"
      ]
     },
     "metadata": {},
     "output_type": "display_data"
    }
   ],
   "source": [
    "sns.countplot(x=\"Serotype\", data=df)\n",
    "plt.show()"
   ]
  },
  {
   "cell_type": "code",
   "execution_count": 4,
   "metadata": {},
   "outputs": [
    {
     "data": {
      "text/plain": [
       "Date_Onset                         False\n",
       "Date_Notification                  False\n",
       "Sex                                False\n",
       "Age_Group                          False\n",
       "County_living                      False\n",
       "Township_living                    False\n",
       "Enumeration_unit                    True\n",
       "Enumeration_unit_long               True\n",
       "Enumeration_unit_lat                True\n",
       "First_level_dissemination_unit      True\n",
       "Second_level_dissemination_unit     True\n",
       "Imported                           False\n",
       "Number_of_confirmed_cases          False\n",
       "Serotype                           False\n",
       "MOI_County_living_Code              True\n",
       "MOI_Township_living_Code            True\n",
       "MOI_County_living                   True\n",
       "MOI_Township_living                 True\n",
       "dtype: bool"
      ]
     },
     "execution_count": 4,
     "metadata": {},
     "output_type": "execute_result"
    }
   ],
   "source": [
    "#預測血清也就是serotype的類型\n",
    "#首先我要提取年齡，居住地，還有血清類型來做測試，在此之前我需要做歸一化，跟清理掉空的數據\n",
    "df['Serotype'].replace('', np.nan, inplace=True)\n",
    "df.dropna(subset=['Serotype'], inplace=True)\n",
    "df.isnull().any()"
   ]
  },
  {
   "cell_type": "code",
   "execution_count": 5,
   "metadata": {},
   "outputs": [
    {
     "data": {
      "text/plain": [
       "['0-9',\n",
       " '10-14',\n",
       " '15-19',\n",
       " '20-24',\n",
       " '25-29',\n",
       " '30-34',\n",
       " '35-39',\n",
       " '40-44',\n",
       " '45-49',\n",
       " '50-54',\n",
       " '55-59',\n",
       " '60-64',\n",
       " '65-69',\n",
       " '70+']"
      ]
     },
     "execution_count": 5,
     "metadata": {},
     "output_type": "execute_result"
    }
   ],
   "source": [
    "#這裡開始是把文字描述變成數字去呈現\n",
    "from sklearn.preprocessing import LabelEncoder\n",
    "from sklearn import preprocessing\n",
    "from sklearn import cross_validation\n",
    "from sklearn.linear_model import LogisticRegression\n",
    "from sklearn import metrics\n",
    "le=preprocessing.LabelEncoder()\n",
    "le.fit(df.Age_Group)\n",
    "list(le.classes_)\n",
    "df['Age_Group'].replace('0', '0-9', inplace=True)\n",
    "df['Age_Group'].replace('1', '0-9', inplace=True)\n",
    "df['Age_Group'].replace('2', '0-9', inplace=True)\n",
    "df['Age_Group'].replace('3', '0-9', inplace=True)\n",
    "df['Age_Group'].replace('4', '0-9', inplace=True)\n",
    "df['Age_Group'].replace('5-9', '0-9', inplace=True)\n",
    "le.fit(df.Age_Group)\n",
    "list(le.classes_)"
   ]
  },
  {
   "cell_type": "code",
   "execution_count": 6,
   "metadata": {},
   "outputs": [
    {
     "data": {
      "text/plain": [
       "['Changhua County',\n",
       " 'Chiayi City',\n",
       " 'Chiayi County',\n",
       " 'Hsinchu City',\n",
       " 'Hsinchu County',\n",
       " 'Hualien County',\n",
       " 'Kaohsiung City',\n",
       " 'Keelung City',\n",
       " 'Kinmen County',\n",
       " 'Miaoli County',\n",
       " 'Nantou County',\n",
       " 'New Taipei City',\n",
       " 'Penghu County',\n",
       " 'Pingtung County',\n",
       " 'Taichung City',\n",
       " 'Tainan City',\n",
       " 'Taipei City',\n",
       " 'Taitung County',\n",
       " 'Taoyuan City',\n",
       " 'Yilan County',\n",
       " 'Yunlin County']"
      ]
     },
     "execution_count": 6,
     "metadata": {},
     "output_type": "execute_result"
    }
   ],
   "source": [
    "df.Age_Group=le.transform(df.Age_Group)\n",
    "le.fit(df.County_living)\n",
    "list(le.classes_)"
   ]
  },
  {
   "cell_type": "code",
   "execution_count": 7,
   "metadata": {},
   "outputs": [
    {
     "data": {
      "text/html": [
       "<div>\n",
       "<style>\n",
       "    .dataframe thead tr:only-child th {\n",
       "        text-align: right;\n",
       "    }\n",
       "\n",
       "    .dataframe thead th {\n",
       "        text-align: left;\n",
       "    }\n",
       "\n",
       "    .dataframe tbody tr th {\n",
       "        vertical-align: top;\n",
       "    }\n",
       "</style>\n",
       "<table border=\"1\" class=\"dataframe\">\n",
       "  <thead>\n",
       "    <tr style=\"text-align: right;\">\n",
       "      <th></th>\n",
       "      <th>Date_Onset</th>\n",
       "      <th>Date_Notification</th>\n",
       "      <th>Sex</th>\n",
       "      <th>Age_Group</th>\n",
       "      <th>County_living</th>\n",
       "      <th>Township_living</th>\n",
       "      <th>Enumeration_unit</th>\n",
       "      <th>Enumeration_unit_long</th>\n",
       "      <th>Enumeration_unit_lat</th>\n",
       "      <th>First_level_dissemination_unit</th>\n",
       "      <th>Second_level_dissemination_unit</th>\n",
       "      <th>Imported</th>\n",
       "      <th>Number_of_confirmed_cases</th>\n",
       "      <th>Serotype</th>\n",
       "      <th>MOI_County_living_Code</th>\n",
       "      <th>MOI_Township_living_Code</th>\n",
       "      <th>MOI_County_living</th>\n",
       "      <th>MOI_Township_living</th>\n",
       "    </tr>\n",
       "  </thead>\n",
       "  <tbody>\n",
       "    <tr>\n",
       "      <th>1</th>\n",
       "      <td>1998/01/03</td>\n",
       "      <td>1998/01/14</td>\n",
       "      <td>M</td>\n",
       "      <td>5</td>\n",
       "      <td>13</td>\n",
       "      <td>Donggang Township</td>\n",
       "      <td>A1303-0150-00</td>\n",
       "      <td>120.45364</td>\n",
       "      <td>22.46639</td>\n",
       "      <td>A1303-09-007</td>\n",
       "      <td>A1303-09</td>\n",
       "      <td>Y</td>\n",
       "      <td>1</td>\n",
       "      <td>DENV2</td>\n",
       "      <td>10013.0</td>\n",
       "      <td>1001303.0</td>\n",
       "      <td>Pingtung County</td>\n",
       "      <td>Donggang Township</td>\n",
       "    </tr>\n",
       "    <tr>\n",
       "      <th>10</th>\n",
       "      <td>1998/02/17</td>\n",
       "      <td>1998/02/23</td>\n",
       "      <td>F</td>\n",
       "      <td>5</td>\n",
       "      <td>6</td>\n",
       "      <td>Fengshan Dist.</td>\n",
       "      <td>A6412-1199-00</td>\n",
       "      <td>120.33998</td>\n",
       "      <td>22.60702</td>\n",
       "      <td>A6412-A3-688</td>\n",
       "      <td>A6412-A3</td>\n",
       "      <td>N</td>\n",
       "      <td>1</td>\n",
       "      <td>DENV2</td>\n",
       "      <td>64.0</td>\n",
       "      <td>6401200.0</td>\n",
       "      <td>Kaohsiung City</td>\n",
       "      <td>Fongshan District</td>\n",
       "    </tr>\n",
       "    <tr>\n",
       "      <th>12</th>\n",
       "      <td>1998/03/05</td>\n",
       "      <td>1998/03/11</td>\n",
       "      <td>M</td>\n",
       "      <td>7</td>\n",
       "      <td>6</td>\n",
       "      <td>Fengshan Dist.</td>\n",
       "      <td>A6412-1737-00</td>\n",
       "      <td>120.32672</td>\n",
       "      <td>22.58874</td>\n",
       "      <td>A6412-F0-967</td>\n",
       "      <td>A6412-F0</td>\n",
       "      <td>N</td>\n",
       "      <td>1</td>\n",
       "      <td>DENV3</td>\n",
       "      <td>64.0</td>\n",
       "      <td>6401200.0</td>\n",
       "      <td>Kaohsiung City</td>\n",
       "      <td>Fongshan District</td>\n",
       "    </tr>\n",
       "    <tr>\n",
       "      <th>16</th>\n",
       "      <td>1998/03/22</td>\n",
       "      <td>1998/03/27</td>\n",
       "      <td>M</td>\n",
       "      <td>5</td>\n",
       "      <td>6</td>\n",
       "      <td>Qianzhen Dist.</td>\n",
       "      <td>A6409-0569-00</td>\n",
       "      <td>120.31874</td>\n",
       "      <td>22.58656</td>\n",
       "      <td>A6409-61-010</td>\n",
       "      <td>A6409-61</td>\n",
       "      <td>N</td>\n",
       "      <td>1</td>\n",
       "      <td>DENV3</td>\n",
       "      <td>64.0</td>\n",
       "      <td>6400900.0</td>\n",
       "      <td>Kaohsiung City</td>\n",
       "      <td>Cianjhen Distric</td>\n",
       "    </tr>\n",
       "    <tr>\n",
       "      <th>17</th>\n",
       "      <td>1998/03/23</td>\n",
       "      <td>1998/03/27</td>\n",
       "      <td>M</td>\n",
       "      <td>6</td>\n",
       "      <td>6</td>\n",
       "      <td>Qianzhen Dist.</td>\n",
       "      <td>A6409-0509-00</td>\n",
       "      <td>120.31139</td>\n",
       "      <td>22.59085</td>\n",
       "      <td>A6409-63-007</td>\n",
       "      <td>A6409-63</td>\n",
       "      <td>N</td>\n",
       "      <td>1</td>\n",
       "      <td>DENV3</td>\n",
       "      <td>64.0</td>\n",
       "      <td>6400900.0</td>\n",
       "      <td>Kaohsiung City</td>\n",
       "      <td>Cianjhen Distric</td>\n",
       "    </tr>\n",
       "  </tbody>\n",
       "</table>\n",
       "</div>"
      ],
      "text/plain": [
       "    Date_Onset Date_Notification Sex  Age_Group  County_living  \\\n",
       "1   1998/01/03        1998/01/14   M          5             13   \n",
       "10  1998/02/17        1998/02/23   F          5              6   \n",
       "12  1998/03/05        1998/03/11   M          7              6   \n",
       "16  1998/03/22        1998/03/27   M          5              6   \n",
       "17  1998/03/23        1998/03/27   M          6              6   \n",
       "\n",
       "      Township_living Enumeration_unit  Enumeration_unit_long  \\\n",
       "1   Donggang Township    A1303-0150-00              120.45364   \n",
       "10     Fengshan Dist.    A6412-1199-00              120.33998   \n",
       "12     Fengshan Dist.    A6412-1737-00              120.32672   \n",
       "16     Qianzhen Dist.    A6409-0569-00              120.31874   \n",
       "17     Qianzhen Dist.    A6409-0509-00              120.31139   \n",
       "\n",
       "    Enumeration_unit_lat First_level_dissemination_unit  \\\n",
       "1               22.46639                   A1303-09-007   \n",
       "10              22.60702                   A6412-A3-688   \n",
       "12              22.58874                   A6412-F0-967   \n",
       "16              22.58656                   A6409-61-010   \n",
       "17              22.59085                   A6409-63-007   \n",
       "\n",
       "   Second_level_dissemination_unit Imported  Number_of_confirmed_cases  \\\n",
       "1                         A1303-09        Y                          1   \n",
       "10                        A6412-A3        N                          1   \n",
       "12                        A6412-F0        N                          1   \n",
       "16                        A6409-61        N                          1   \n",
       "17                        A6409-63        N                          1   \n",
       "\n",
       "   Serotype  MOI_County_living_Code  MOI_Township_living_Code  \\\n",
       "1     DENV2                 10013.0                 1001303.0   \n",
       "10    DENV2                    64.0                 6401200.0   \n",
       "12    DENV3                    64.0                 6401200.0   \n",
       "16    DENV3                    64.0                 6400900.0   \n",
       "17    DENV3                    64.0                 6400900.0   \n",
       "\n",
       "   MOI_County_living MOI_Township_living  \n",
       "1    Pingtung County   Donggang Township  \n",
       "10    Kaohsiung City   Fongshan District  \n",
       "12    Kaohsiung City   Fongshan District  \n",
       "16    Kaohsiung City    Cianjhen Distric  \n",
       "17    Kaohsiung City    Cianjhen Distric  "
      ]
     },
     "execution_count": 7,
     "metadata": {},
     "output_type": "execute_result"
    }
   ],
   "source": [
    "df.County_living=le.transform(df.County_living)\n",
    "df.head()"
   ]
  },
  {
   "cell_type": "code",
   "execution_count": 8,
   "metadata": {},
   "outputs": [
    {
     "data": {
      "text/plain": [
       "['F', 'M']"
      ]
     },
     "execution_count": 8,
     "metadata": {},
     "output_type": "execute_result"
    }
   ],
   "source": [
    "le.fit(df.Sex)\n",
    "list(le.classes_)"
   ]
  },
  {
   "cell_type": "code",
   "execution_count": 9,
   "metadata": {
    "collapsed": true
   },
   "outputs": [],
   "source": [
    "#清掉空資料的情況，U表示有不知道\n",
    "df['Sex'].replace('U', np.nan, inplace=True)\n",
    "df.dropna(subset=['Sex'], inplace=True)\n",
    "le.fit(df.Sex)\n",
    "list(le.classes_)\n",
    "df.Sex=le.transform(df.Sex)"
   ]
  },
  {
   "cell_type": "code",
   "execution_count": 18,
   "metadata": {},
   "outputs": [
    {
     "data": {
      "text/plain": [
       "((8752, 3), (8752,))"
      ]
     },
     "execution_count": 18,
     "metadata": {},
     "output_type": "execute_result"
    }
   ],
   "source": [
    "# knn begin\n",
    "X = np.array(df[['Age_Group','County_living','Sex']])\n",
    "Y = np.array(df['Serotype'])\n",
    "X.shape,Y.shape"
   ]
  },
  {
   "cell_type": "code",
   "execution_count": 19,
   "metadata": {},
   "outputs": [
    {
     "data": {
      "text/plain": [
       "((6126, 3), (6126,))"
      ]
     },
     "execution_count": 19,
     "metadata": {},
     "output_type": "execute_result"
    }
   ],
   "source": [
    "X_train, X_test, y_train, y_test = train_test_split(X, Y, test_size=0.3, random_state=0)\n",
    "X_train.shape,y_train.shape"
   ]
  },
  {
   "cell_type": "code",
   "execution_count": 20,
   "metadata": {},
   "outputs": [
    {
     "data": {
      "text/plain": [
       "KNeighborsClassifier(algorithm='auto', leaf_size=30, metric='minkowski',\n",
       "           metric_params=None, n_jobs=1, n_neighbors=20, p=2,\n",
       "           weights='uniform')"
      ]
     },
     "execution_count": 20,
     "metadata": {},
     "output_type": "execute_result"
    }
   ],
   "source": [
    "#导入机器学习KNN分析库\n",
    "from sklearn.neighbors import KNeighborsClassifier\n",
    "\n",
    "#将训练集代入到KNN模型中\n",
    "clf = KNeighborsClassifier(n_neighbors=20)\n",
    "clf.fit(X_train,y_train)"
   ]
  },
  {
   "cell_type": "code",
   "execution_count": 21,
   "metadata": {},
   "outputs": [
    {
     "data": {
      "text/plain": [
       "0.61728865194211724"
      ]
     },
     "execution_count": 21,
     "metadata": {},
     "output_type": "execute_result"
    }
   ],
   "source": [
    "#使用测试集衡量模型准确度\n",
    "clf.score(X_test, y_test)"
   ]
  },
  {
   "cell_type": "code",
   "execution_count": 23,
   "metadata": {},
   "outputs": [
    {
     "data": {
      "text/plain": [
       "array(['DENV1'], dtype=object)"
      ]
     },
     "execution_count": 23,
     "metadata": {},
     "output_type": "execute_result"
    }
   ],
   "source": [
    "new_data = np.array([[0,2,1]])\n",
    "#对新数据进行分类预测\n",
    "clf.predict(new_data)"
   ]
  },
  {
   "cell_type": "code",
   "execution_count": 24,
   "metadata": {},
   "outputs": [
    {
     "data": {
      "text/plain": [
       "(array(['DENV1', 'DENV2', 'DENV3', 'DENV4'], dtype=object),\n",
       " array([[ 0.45,  0.25,  0.15,  0.15]]))"
      ]
     },
     "execution_count": 24,
     "metadata": {},
     "output_type": "execute_result"
    }
   ],
   "source": [
    "#新数据属于每一个分类的概率\n",
    "clf.classes_,clf.predict_proba(new_data)"
   ]
  },
  {
   "cell_type": "code",
   "execution_count": 25,
   "metadata": {},
   "outputs": [
    {
     "name": "stdout",
     "output_type": "stream",
     "text": [
      "['DENV2' 'DENV2' 'DENV2' ..., 'DENV1' 'DENV2' 'DENV2']\n"
     ]
    }
   ],
   "source": [
    "#查看分類的確切情況\n",
    "from sklearn import tree\n",
    "# 建立分類器\n",
    "clf2 = tree.DecisionTreeClassifier()\n",
    "iris_clf = clf.fit(X_train,y_train)\n",
    "# 預測\n",
    "test_y_predicted = iris_clf.predict(X_test)\n",
    "print(test_y_predicted)"
   ]
  },
  {
   "cell_type": "code",
   "execution_count": 26,
   "metadata": {},
   "outputs": [
    {
     "name": "stdout",
     "output_type": "stream",
     "text": [
      "['DENV3' 'DENV2' 'DENV4' ..., 'DENV1' 'DENV1' 'DENV2']\n"
     ]
    }
   ],
   "source": [
    "print(y_test)"
   ]
  },
  {
   "cell_type": "code",
   "execution_count": null,
   "metadata": {
    "collapsed": true
   },
   "outputs": [],
   "source": []
  }
 ],
 "metadata": {
  "kernelspec": {
   "display_name": "Python 2",
   "language": "python",
   "name": "python2"
  },
  "language_info": {
   "codemirror_mode": {
    "name": "ipython",
    "version": 2
   },
   "file_extension": ".py",
   "mimetype": "text/x-python",
   "name": "python",
   "nbconvert_exporter": "python",
   "pygments_lexer": "ipython2",
   "version": "2.7.13"
  }
 },
 "nbformat": 4,
 "nbformat_minor": 2
}
