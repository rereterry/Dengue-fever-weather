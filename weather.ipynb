{
 "cells": [
  {
   "cell_type": "code",
   "execution_count": 5,
   "metadata": {},
   "outputs": [],
   "source": [
    "from __future__ import print_function\n",
    "%matplotlib inline\n",
    "import pandas as pd\n",
    "import matplotlib.pyplot as plt\n",
    "import numpy as np\n",
    "from scipy import stats\n",
    "import seaborn as sns\n",
    "import statsmodels.api as sm\n",
    "from sklearn import linear_model\n",
    "from statsmodels.formula.api import ols\n",
    "from sklearn.cross_validation import KFold, cross_val_score, train_test_split\n",
    "from sklearn.linear_model import LinearRegression, Ridge, Lasso\n",
    "from sklearn.preprocessing import PolynomialFeatures\n",
    "from sklearn.pipeline import make_pipeline\n",
    "import warnings\n",
    "warnings.filterwarnings('ignore')"
   ]
  },
  {
   "cell_type": "code",
   "execution_count": 6,
   "metadata": {},
   "outputs": [],
   "source": [
    "import pymysql as mql\n",
    "import pandas as pd\n",
    "import matplotlib.pyplot as plt\n",
    "import seaborn as sns\n",
    "import numpy as np\n",
    "import datetime\n",
    "\n",
    "db = mql.connect(\"localhost\", \"root\", \"ab123456\", \"INFO7390_Time\")"
   ]
  },
  {
   "cell_type": "code",
   "execution_count": 7,
   "metadata": {},
   "outputs": [
    {
     "data": {
      "text/html": [
       "<div>\n",
       "<style>\n",
       "    .dataframe thead tr:only-child th {\n",
       "        text-align: right;\n",
       "    }\n",
       "\n",
       "    .dataframe thead th {\n",
       "        text-align: left;\n",
       "    }\n",
       "\n",
       "    .dataframe tbody tr th {\n",
       "        vertical-align: top;\n",
       "    }\n",
       "</style>\n",
       "<table border=\"1\" class=\"dataframe\">\n",
       "  <thead>\n",
       "    <tr style=\"text-align: right;\">\n",
       "      <th></th>\n",
       "      <th>Station</th>\n",
       "      <th>County</th>\n",
       "      <th>Avg_temp</th>\n",
       "      <th>h_temp/\n",
       "Day</th>\n",
       "      <th>low_temp/\n",
       "Day</th>\n",
       "      <th>Rain</th>\n",
       "      <th>rela_hum</th>\n",
       "      <th>small_hum/\n",
       "Day</th>\n",
       "      <th>pressure</th>\n",
       "      <th>rain_day</th>\n",
       "      <th>sun_hr</th>\n",
       "      <th>Year</th>\n",
       "      <th>Month</th>\n",
       "    </tr>\n",
       "  </thead>\n",
       "  <tbody>\n",
       "    <tr>\n",
       "      <th>0</th>\n",
       "      <td>Alishan</td>\n",
       "      <td>Chiayi County</td>\n",
       "      <td>8.7</td>\n",
       "      <td>17.6/11</td>\n",
       "      <td>-0.3/5</td>\n",
       "      <td>103.2</td>\n",
       "      <td>89</td>\n",
       "      <td>31/10</td>\n",
       "      <td>765.8</td>\n",
       "      <td>9</td>\n",
       "      <td>118.0</td>\n",
       "      <td>2008</td>\n",
       "      <td>1</td>\n",
       "    </tr>\n",
       "    <tr>\n",
       "      <th>1</th>\n",
       "      <td>Anbu</td>\n",
       "      <td>Taipei City</td>\n",
       "      <td>10.9</td>\n",
       "      <td>24.1/11</td>\n",
       "      <td>2.5/2</td>\n",
       "      <td>352.0</td>\n",
       "      <td>92</td>\n",
       "      <td>55/20</td>\n",
       "      <td>925.7</td>\n",
       "      <td>21</td>\n",
       "      <td>35.6</td>\n",
       "      <td>2008</td>\n",
       "      <td>1</td>\n",
       "    </tr>\n",
       "    <tr>\n",
       "      <th>2</th>\n",
       "      <td>Banqiao</td>\n",
       "      <td>New Taipei City</td>\n",
       "      <td>16.6</td>\n",
       "      <td>29.1/11</td>\n",
       "      <td>9.3/2</td>\n",
       "      <td>81.0</td>\n",
       "      <td>80</td>\n",
       "      <td>45/20</td>\n",
       "      <td>1019.2</td>\n",
       "      <td>13</td>\n",
       "      <td>65.4</td>\n",
       "      <td>2008</td>\n",
       "      <td>1</td>\n",
       "    </tr>\n",
       "    <tr>\n",
       "      <th>3</th>\n",
       "      <td>Zhongli</td>\n",
       "      <td>Taitung County</td>\n",
       "      <td>19.6</td>\n",
       "      <td>27.6/12</td>\n",
       "      <td>12.6/1</td>\n",
       "      <td>43.8</td>\n",
       "      <td>77</td>\n",
       "      <td>54/3</td>\n",
       "      <td>1014.9</td>\n",
       "      <td>18</td>\n",
       "      <td>27.8</td>\n",
       "      <td>2008</td>\n",
       "      <td>1</td>\n",
       "    </tr>\n",
       "    <tr>\n",
       "      <th>4</th>\n",
       "      <td>Chiayi</td>\n",
       "      <td>Chiayi City</td>\n",
       "      <td>17.6</td>\n",
       "      <td>31.3/11</td>\n",
       "      <td>6.9/3</td>\n",
       "      <td>31.2</td>\n",
       "      <td>79</td>\n",
       "      <td>41/6</td>\n",
       "      <td>1015.1</td>\n",
       "      <td>7</td>\n",
       "      <td>135.5</td>\n",
       "      <td>2008</td>\n",
       "      <td>1</td>\n",
       "    </tr>\n",
       "  </tbody>\n",
       "</table>\n",
       "</div>"
      ],
      "text/plain": [
       "   Station           County  Avg_temp h_temp/\\nDay low_temp/\\nDay   Rain  \\\n",
       "0  Alishan    Chiayi County       8.7      17.6/11         -0.3/5  103.2   \n",
       "1     Anbu      Taipei City      10.9      24.1/11          2.5/2  352.0   \n",
       "2  Banqiao  New Taipei City      16.6      29.1/11          9.3/2   81.0   \n",
       "3  Zhongli   Taitung County      19.6      27.6/12         12.6/1   43.8   \n",
       "4   Chiayi      Chiayi City      17.6      31.3/11          6.9/3   31.2   \n",
       "\n",
       "   rela_hum small_hum/\\nDay  pressure  rain_day  sun_hr  Year  Month  \n",
       "0        89           31/10     765.8         9   118.0  2008      1  \n",
       "1        92           55/20     925.7        21    35.6  2008      1  \n",
       "2        80           45/20    1019.2        13    65.4  2008      1  \n",
       "3        77            54/3    1014.9        18    27.8  2008      1  \n",
       "4        79            41/6    1015.1         7   135.5  2008      1  "
      ]
     },
     "execution_count": 7,
     "metadata": {},
     "output_type": "execute_result"
    }
   ],
   "source": [
    "df1 = pd.read_sql_query(\"select * from weather_all_station;\", db)\n",
    "df1.head()"
   ]
  },
  {
   "cell_type": "code",
   "execution_count": 8,
   "metadata": {},
   "outputs": [
    {
     "data": {
      "text/html": [
       "<div>\n",
       "<style>\n",
       "    .dataframe thead tr:only-child th {\n",
       "        text-align: right;\n",
       "    }\n",
       "\n",
       "    .dataframe thead th {\n",
       "        text-align: left;\n",
       "    }\n",
       "\n",
       "    .dataframe tbody tr th {\n",
       "        vertical-align: top;\n",
       "    }\n",
       "</style>\n",
       "<table border=\"1\" class=\"dataframe\">\n",
       "  <thead>\n",
       "    <tr style=\"text-align: right;\">\n",
       "      <th></th>\n",
       "      <th>Year</th>\n",
       "      <th>Month</th>\n",
       "      <th>County</th>\n",
       "      <th>total_case</th>\n",
       "      <th>Level</th>\n",
       "    </tr>\n",
       "  </thead>\n",
       "  <tbody>\n",
       "    <tr>\n",
       "      <th>0</th>\n",
       "      <td>1998</td>\n",
       "      <td>1</td>\n",
       "      <td>Kaohsiung City</td>\n",
       "      <td>1</td>\n",
       "      <td>0</td>\n",
       "    </tr>\n",
       "    <tr>\n",
       "      <th>1</th>\n",
       "      <td>1998</td>\n",
       "      <td>1</td>\n",
       "      <td>New Taipei City</td>\n",
       "      <td>1</td>\n",
       "      <td>0</td>\n",
       "    </tr>\n",
       "    <tr>\n",
       "      <th>2</th>\n",
       "      <td>1998</td>\n",
       "      <td>1</td>\n",
       "      <td>Pingtung County</td>\n",
       "      <td>2</td>\n",
       "      <td>0</td>\n",
       "    </tr>\n",
       "    <tr>\n",
       "      <th>3</th>\n",
       "      <td>1998</td>\n",
       "      <td>1</td>\n",
       "      <td>Taipei City</td>\n",
       "      <td>1</td>\n",
       "      <td>0</td>\n",
       "    </tr>\n",
       "    <tr>\n",
       "      <th>4</th>\n",
       "      <td>1998</td>\n",
       "      <td>1</td>\n",
       "      <td>Taoyuan City</td>\n",
       "      <td>1</td>\n",
       "      <td>0</td>\n",
       "    </tr>\n",
       "  </tbody>\n",
       "</table>\n",
       "</div>"
      ],
      "text/plain": [
       "   Year  Month           County  total_case  Level\n",
       "0  1998      1   Kaohsiung City           1      0\n",
       "1  1998      1  New Taipei City           1      0\n",
       "2  1998      1  Pingtung County           2      0\n",
       "3  1998      1      Taipei City           1      0\n",
       "4  1998      1     Taoyuan City           1      0"
      ]
     },
     "execution_count": 8,
     "metadata": {},
     "output_type": "execute_result"
    }
   ],
   "source": [
    "import os.path\n",
    "userhome = os.path.expanduser('~')\n",
    "csvfile2 = os.path.join(userhome, 'Desktop', '2017spring', 'MyJava', 'final_dengue', 'output', 'part-r-00000')\n",
    "df2 = pd.read_csv(csvfile2,header=None)\n",
    "df2.columns = ['Year','Month','County','total_case','Level']\n",
    "df2.head()"
   ]
  },
  {
   "cell_type": "code",
   "execution_count": 9,
   "metadata": {},
   "outputs": [
    {
     "data": {
      "text/html": [
       "<div>\n",
       "<style>\n",
       "    .dataframe thead tr:only-child th {\n",
       "        text-align: right;\n",
       "    }\n",
       "\n",
       "    .dataframe thead th {\n",
       "        text-align: left;\n",
       "    }\n",
       "\n",
       "    .dataframe tbody tr th {\n",
       "        vertical-align: top;\n",
       "    }\n",
       "</style>\n",
       "<table border=\"1\" class=\"dataframe\">\n",
       "  <thead>\n",
       "    <tr style=\"text-align: right;\">\n",
       "      <th></th>\n",
       "      <th>Station</th>\n",
       "      <th>County</th>\n",
       "      <th>Avg_temp</th>\n",
       "      <th>h_temp/\n",
       "Day</th>\n",
       "      <th>low_temp/\n",
       "Day</th>\n",
       "      <th>Rain</th>\n",
       "      <th>rela_hum</th>\n",
       "      <th>small_hum/\n",
       "Day</th>\n",
       "      <th>pressure</th>\n",
       "      <th>rain_day</th>\n",
       "      <th>sun_hr</th>\n",
       "      <th>Year</th>\n",
       "      <th>Month</th>\n",
       "      <th>total_case</th>\n",
       "      <th>Level</th>\n",
       "    </tr>\n",
       "  </thead>\n",
       "  <tbody>\n",
       "    <tr>\n",
       "      <th>0</th>\n",
       "      <td>Anbu</td>\n",
       "      <td>Taipei City</td>\n",
       "      <td>10.9</td>\n",
       "      <td>24.1/11</td>\n",
       "      <td>2.5/2</td>\n",
       "      <td>352.0</td>\n",
       "      <td>92</td>\n",
       "      <td>55/20</td>\n",
       "      <td>925.7</td>\n",
       "      <td>21</td>\n",
       "      <td>35.6</td>\n",
       "      <td>2008</td>\n",
       "      <td>1</td>\n",
       "      <td>3</td>\n",
       "      <td>0</td>\n",
       "    </tr>\n",
       "    <tr>\n",
       "      <th>1</th>\n",
       "      <td>Taipei</td>\n",
       "      <td>Taipei City</td>\n",
       "      <td>16.5</td>\n",
       "      <td>28.8/11</td>\n",
       "      <td>10.2/2</td>\n",
       "      <td>85.8</td>\n",
       "      <td>81</td>\n",
       "      <td>44/20</td>\n",
       "      <td>1020.3</td>\n",
       "      <td>15</td>\n",
       "      <td>61.2</td>\n",
       "      <td>2008</td>\n",
       "      <td>1</td>\n",
       "      <td>3</td>\n",
       "      <td>0</td>\n",
       "    </tr>\n",
       "    <tr>\n",
       "      <th>2</th>\n",
       "      <td>Zhuzihu</td>\n",
       "      <td>Taipei City</td>\n",
       "      <td>12.6</td>\n",
       "      <td>25.6/11</td>\n",
       "      <td>4.6/2</td>\n",
       "      <td>313.0</td>\n",
       "      <td>88</td>\n",
       "      <td>53/9</td>\n",
       "      <td>949.6</td>\n",
       "      <td>20</td>\n",
       "      <td>70.3</td>\n",
       "      <td>2008</td>\n",
       "      <td>1</td>\n",
       "      <td>3</td>\n",
       "      <td>0</td>\n",
       "    </tr>\n",
       "    <tr>\n",
       "      <th>3</th>\n",
       "      <td>Banqiao</td>\n",
       "      <td>New Taipei City</td>\n",
       "      <td>16.6</td>\n",
       "      <td>29.1/11</td>\n",
       "      <td>9.3/2</td>\n",
       "      <td>81.0</td>\n",
       "      <td>80</td>\n",
       "      <td>45/20</td>\n",
       "      <td>1019.2</td>\n",
       "      <td>13</td>\n",
       "      <td>65.4</td>\n",
       "      <td>2008</td>\n",
       "      <td>1</td>\n",
       "      <td>1</td>\n",
       "      <td>0</td>\n",
       "    </tr>\n",
       "    <tr>\n",
       "      <th>4</th>\n",
       "      <td>Tamsui</td>\n",
       "      <td>New Taipei City</td>\n",
       "      <td>15.6</td>\n",
       "      <td>25.1/9</td>\n",
       "      <td>8.6/2</td>\n",
       "      <td>107.5</td>\n",
       "      <td>79</td>\n",
       "      <td>48/9</td>\n",
       "      <td>1018.5</td>\n",
       "      <td>14</td>\n",
       "      <td>57.2</td>\n",
       "      <td>2008</td>\n",
       "      <td>1</td>\n",
       "      <td>1</td>\n",
       "      <td>0</td>\n",
       "    </tr>\n",
       "  </tbody>\n",
       "</table>\n",
       "</div>"
      ],
      "text/plain": [
       "   Station           County  Avg_temp h_temp/\\nDay low_temp/\\nDay   Rain  \\\n",
       "0     Anbu      Taipei City      10.9      24.1/11          2.5/2  352.0   \n",
       "1   Taipei      Taipei City      16.5      28.8/11         10.2/2   85.8   \n",
       "2  Zhuzihu      Taipei City      12.6      25.6/11          4.6/2  313.0   \n",
       "3  Banqiao  New Taipei City      16.6      29.1/11          9.3/2   81.0   \n",
       "4   Tamsui  New Taipei City      15.6       25.1/9          8.6/2  107.5   \n",
       "\n",
       "   rela_hum small_hum/\\nDay  pressure  rain_day  sun_hr  Year  Month  \\\n",
       "0        92           55/20     925.7        21    35.6  2008      1   \n",
       "1        81           44/20    1020.3        15    61.2  2008      1   \n",
       "2        88            53/9     949.6        20    70.3  2008      1   \n",
       "3        80           45/20    1019.2        13    65.4  2008      1   \n",
       "4        79            48/9    1018.5        14    57.2  2008      1   \n",
       "\n",
       "   total_case  Level  \n",
       "0           3      0  \n",
       "1           3      0  \n",
       "2           3      0  \n",
       "3           1      0  \n",
       "4           1      0  "
      ]
     },
     "execution_count": 9,
     "metadata": {},
     "output_type": "execute_result"
    }
   ],
   "source": [
    "df3 = pd.merge(df1, df2, on=['Year', 'Month','County'])\n",
    "df3.head()"
   ]
  },
  {
   "cell_type": "code",
   "execution_count": 10,
   "metadata": {},
   "outputs": [
    {
     "data": {
      "text/plain": [
       "Station            False\n",
       "County             False\n",
       "Avg_temp           False\n",
       "h_temp/\\nDay       False\n",
       "low_temp/\\nDay     False\n",
       "Rain               False\n",
       "rela_hum           False\n",
       "small_hum/\\nDay    False\n",
       "pressure           False\n",
       "rain_day           False\n",
       "sun_hr             False\n",
       "Year               False\n",
       "Month              False\n",
       "total_case         False\n",
       "Level              False\n",
       "dtype: bool"
      ]
     },
     "execution_count": 10,
     "metadata": {},
     "output_type": "execute_result"
    }
   ],
   "source": [
    "#all\n",
    "df3.isnull().any()"
   ]
  },
  {
   "cell_type": "code",
   "execution_count": 11,
   "metadata": {},
   "outputs": [
    {
     "data": {
      "image/png": "[encoded data removed]",
      "text/plain": [
       "<matplotlib.figure.Figure at 0x11d875bd0>"
      ]
     },
     "metadata": {},
     "output_type": "display_data"
    }
   ],
   "source": [
    "#先開始檢測線性關係\n",
    "sns.lmplot(x = 'Year', y='total_case', hue=\"County\", data = df3)\n",
    "plt.show()"
   ]
  },
  {
   "cell_type": "code",
   "execution_count": 12,
   "metadata": {},
   "outputs": [
    {
     "name": "stdout",
     "output_type": "stream",
     "text": [
      "527.638645855 [ 11.28733029  -0.0549384   -1.50148727  -0.39708767  -6.35364045\n",
      "  -0.93637625]\n"
     ]
    }
   ],
   "source": [
    "#先檢測全部欄位的影響情況\n",
    "X = np.array(df3[['Avg_temp','Rain','rela_hum','pressure','rain_day','sun_hr']])\n",
    "y = np.array(df3['total_case'])\n",
    "model1 = linear_model.LinearRegression()\n",
    "results = model1.fit(X, y)\n",
    "print (results.intercept_, results.coef_)"
   ]
  },
  {
   "cell_type": "code",
   "execution_count": 13,
   "metadata": {},
   "outputs": [
    {
     "data": {
      "text/plain": [
       "LinearRegression(copy_X=True, fit_intercept=True, n_jobs=1, normalize=False)"
      ]
     },
     "execution_count": 13,
     "metadata": {},
     "output_type": "execute_result"
    }
   ],
   "source": [
    "# Create linear regression object\n",
    "linreg0 = LinearRegression()\n",
    "\n",
    "# Train the model using the training sets\n",
    "linreg0.fit(X,y)"
   ]
  },
  {
   "cell_type": "code",
   "execution_count": 14,
   "metadata": {},
   "outputs": [
    {
     "data": {
      "text/plain": [
       "510.28378484073551"
      ]
     },
     "execution_count": 14,
     "metadata": {},
     "output_type": "execute_result"
    }
   ],
   "source": [
    "from sklearn import metrics\n",
    "# Compute RMSE on all data\n",
    "y_pred = linreg0.predict(X)\n",
    "rmse = np.sqrt(metrics.mean_squared_error(y, y_pred))\n",
    "rmse"
   ]
  },
  {
   "cell_type": "code",
   "execution_count": 15,
   "metadata": {},
   "outputs": [
    {
     "data": {
      "text/html": [
       "<table class=\"simpletable\">\n",
       "<caption>OLS Regression Results</caption>\n",
       "<tr>\n",
       "  <th>Dep. Variable:</th>            <td>y</td>        <th>  R-squared:         </th> <td>   0.015</td> \n",
       "</tr>\n",
       "<tr>\n",
       "  <th>Model:</th>                   <td>OLS</td>       <th>  Adj. R-squared:    </th> <td>   0.011</td> \n",
       "</tr>\n",
       "<tr>\n",
       "  <th>Method:</th>             <td>Least Squares</td>  <th>  F-statistic:       </th> <td>   3.773</td> \n",
       "</tr>\n",
       "<tr>\n",
       "  <th>Date:</th>             <td>Wed, 13 Dec 2017</td> <th>  Prob (F-statistic):</th> <td>0.000984</td> \n",
       "</tr>\n",
       "<tr>\n",
       "  <th>Time:</th>                 <td>18:32:27</td>     <th>  Log-Likelihood:    </th> <td> -11084.</td> \n",
       "</tr>\n",
       "<tr>\n",
       "  <th>No. Observations:</th>      <td>  1448</td>      <th>  AIC:               </th> <td>2.218e+04</td>\n",
       "</tr>\n",
       "<tr>\n",
       "  <th>Df Residuals:</th>          <td>  1442</td>      <th>  BIC:               </th> <td>2.221e+04</td>\n",
       "</tr>\n",
       "<tr>\n",
       "  <th>Df Model:</th>              <td>     6</td>      <th>                     </th>     <td> </td>    \n",
       "</tr>\n",
       "<tr>\n",
       "  <th>Covariance Type:</th>      <td>nonrobust</td>    <th>                     </th>     <td> </td>    \n",
       "</tr>\n",
       "</table>\n",
       "<table class=\"simpletable\">\n",
       "<tr>\n",
       "   <td></td>     <th>coef</th>     <th>std err</th>      <th>t</th>      <th>P>|t|</th>  <th>[0.025</th>    <th>0.975]</th>  \n",
       "</tr>\n",
       "<tr>\n",
       "  <th>x1</th> <td>    7.8805</td> <td>    3.705</td> <td>    2.127</td> <td> 0.034</td> <td>    0.613</td> <td>   15.148</td>\n",
       "</tr>\n",
       "<tr>\n",
       "  <th>x2</th> <td>   -0.0492</td> <td>    0.075</td> <td>   -0.658</td> <td> 0.511</td> <td>   -0.196</td> <td>    0.097</td>\n",
       "</tr>\n",
       "<tr>\n",
       "  <th>x3</th> <td>    1.2028</td> <td>    1.989</td> <td>    0.605</td> <td> 0.545</td> <td>   -2.698</td> <td>    5.104</td>\n",
       "</tr>\n",
       "<tr>\n",
       "  <th>x4</th> <td>   -0.0573</td> <td>    0.175</td> <td>   -0.327</td> <td> 0.744</td> <td>   -0.401</td> <td>    0.286</td>\n",
       "</tr>\n",
       "<tr>\n",
       "  <th>x5</th> <td>   -5.6431</td> <td>    3.523</td> <td>   -1.602</td> <td> 0.109</td> <td>  -12.554</td> <td>    1.267</td>\n",
       "</tr>\n",
       "<tr>\n",
       "  <th>x6</th> <td>   -0.6023</td> <td>    0.325</td> <td>   -1.855</td> <td> 0.064</td> <td>   -1.239</td> <td>    0.035</td>\n",
       "</tr>\n",
       "</table>\n",
       "<table class=\"simpletable\">\n",
       "<tr>\n",
       "  <th>Omnibus:</th>       <td>3029.281</td> <th>  Durbin-Watson:     </th>  <td>   2.005</td>  \n",
       "</tr>\n",
       "<tr>\n",
       "  <th>Prob(Omnibus):</th>  <td> 0.000</td>  <th>  Jarque-Bera (JB):  </th> <td>7501841.485</td>\n",
       "</tr>\n",
       "<tr>\n",
       "  <th>Skew:</th>           <td>17.241</td>  <th>  Prob(JB):          </th>  <td>    0.00</td>  \n",
       "</tr>\n",
       "<tr>\n",
       "  <th>Kurtosis:</th>       <td>353.929</td> <th>  Cond. No.          </th>  <td>    319.</td>  \n",
       "</tr>\n",
       "</table>"
      ],
      "text/plain": [
       "<class 'statsmodels.iolib.summary.Summary'>\n",
       "\"\"\"\n",
       "                            OLS Regression Results                            \n",
       "==============================================================================\n",
       "Dep. Variable:                      y   R-squared:                       0.015\n",
       "Model:                            OLS   Adj. R-squared:                  0.011\n",
       "Method:                 Least Squares   F-statistic:                     3.773\n",
       "Date:                Wed, 13 Dec 2017   Prob (F-statistic):           0.000984\n",
       "Time:                        18:32:27   Log-Likelihood:                -11084.\n",
       "No. Observations:                1448   AIC:                         2.218e+04\n",
       "Df Residuals:                    1442   BIC:                         2.221e+04\n",
       "Df Model:                           6                                         \n",
       "Covariance Type:            nonrobust                                         \n",
       "==============================================================================\n",
       "                 coef    std err          t      P>|t|      [0.025      0.975]\n",
       "------------------------------------------------------------------------------\n",
       "x1             7.8805      3.705      2.127      0.034       0.613      15.148\n",
       "x2            -0.0492      0.075     -0.658      0.511      -0.196       0.097\n",
       "x3             1.2028      1.989      0.605      0.545      -2.698       5.104\n",
       "x4            -0.0573      0.175     -0.327      0.744      -0.401       0.286\n",
       "x5            -5.6431      3.523     -1.602      0.109     -12.554       1.267\n",
       "x6            -0.6023      0.325     -1.855      0.064      -1.239       0.035\n",
       "==============================================================================\n",
       "Omnibus:                     3029.281   Durbin-Watson:                   2.005\n",
       "Prob(Omnibus):                  0.000   Jarque-Bera (JB):          7501841.485\n",
       "Skew:                          17.241   Prob(JB):                         0.00\n",
       "Kurtosis:                     353.929   Cond. No.                         319.\n",
       "==============================================================================\n",
       "\n",
       "Warnings:\n",
       "[1] Standard Errors assume that the covariance matrix of the errors is correctly specified.\n",
       "\"\"\""
      ]
     },
     "execution_count": 15,
     "metadata": {},
     "output_type": "execute_result"
    }
   ],
   "source": [
    "model2 = sm.OLS(y, X)\n",
    "results = model2.fit()\n",
    "# Statsmodels gives R-like statistical output\n",
    "results.summary()"
   ]
  },
  {
   "cell_type": "code",
   "execution_count": 16,
   "metadata": {},
   "outputs": [
    {
     "data": {
      "text/plain": [
       "((1013, 6), (1013,))"
      ]
     },
     "execution_count": 16,
     "metadata": {},
     "output_type": "execute_result"
    }
   ],
   "source": [
    "from sklearn import preprocessing\n",
    "X = np.array(df3[['Avg_temp','Rain','rela_hum','pressure','rain_day','sun_hr']])\n",
    "# calculate mean  \n",
    "X_mean = X.mean(axis=0)  \n",
    "# calculate variance   \n",
    "X_std = X.std(axis=0)  \n",
    "# standardize X  \n",
    "X1 = (X-X_mean)/X_std  # 自己计算\n",
    "# use function preprocessing.scale to standardize X  \n",
    "X_scale = preprocessing.scale(X)  # 调用sklearn包的方法\n",
    "Y = np.array(df3['total_case'])\n",
    "X_train, X_test, y_train, y_test = train_test_split(X_scale, Y, test_size=0.3, random_state=0)\n",
    "X_train.shape,y_train.shape"
   ]
  },
  {
   "cell_type": "code",
   "execution_count": 17,
   "metadata": {},
   "outputs": [
    {
     "name": "stdout",
     "output_type": "stream",
     "text": [
      "LinearRegression(copy_X=True, fit_intercept=True, n_jobs=1, normalize=False)\n",
      "61.5239392628\n",
      "[ 96.64692285 -22.97492487  -9.22768002 -44.60437315 -48.98483911\n",
      " -81.15052442]\n"
     ]
    }
   ],
   "source": [
    "model = LinearRegression()  \n",
    "results=model.fit(X_train, y_train)  \n",
    "print (results)  \n",
    "print (results.intercept_)  \n",
    "print (results.coef_) \n",
    "\n"
   ]
  },
  {
   "cell_type": "code",
   "execution_count": 18,
   "metadata": {},
   "outputs": [
    {
     "data": {
      "text/plain": [
       "LinearRegression(copy_X=True, fit_intercept=True, n_jobs=1, normalize=False)"
      ]
     },
     "execution_count": 18,
     "metadata": {},
     "output_type": "execute_result"
    }
   ],
   "source": [
    "# Create linear regression object\n",
    "linreg2 = LinearRegression()\n",
    "\n",
    "# Train the model using the training sets\n",
    "linreg2.fit(X_train,y_train)"
   ]
  },
  {
   "cell_type": "code",
   "execution_count": 19,
   "metadata": {},
   "outputs": [
    {
     "data": {
      "text/plain": [
       "265.04227190444971"
      ]
     },
     "execution_count": 19,
     "metadata": {},
     "output_type": "execute_result"
    }
   ],
   "source": [
    "# Compute RMSE on all data\n",
    "y_pred = linreg2.predict(X_test)\n",
    "rmse = np.sqrt(metrics.mean_squared_error(y_test, y_pred))\n",
    "rmse"
   ]
  },
  {
   "cell_type": "code",
   "execution_count": 20,
   "metadata": {},
   "outputs": [
    {
     "data": {
      "text/plain": [
       "<matplotlib.collections.PathCollection at 0x122114250>"
      ]
     },
     "execution_count": 20,
     "metadata": {},
     "output_type": "execute_result"
    },
    {
     "data": {
      "image/png": "[encoded data removed]",
      "text/plain": [
       "<matplotlib.figure.Figure at 0x120f8c310>"
      ]
     },
     "metadata": {},
     "output_type": "display_data"
    }
   ],
   "source": [
    "plt.scatter(y_test, y_pred)"
   ]
  },
  {
   "cell_type": "code",
   "execution_count": 21,
   "metadata": {},
   "outputs": [
    {
     "data": {
      "text/plain": [
       "3.0"
      ]
     },
     "execution_count": 21,
     "metadata": {},
     "output_type": "execute_result"
    }
   ],
   "source": [
    "np.median(y_test)"
   ]
  },
  {
   "cell_type": "code",
   "execution_count": 22,
   "metadata": {},
   "outputs": [
    {
     "data": {
      "text/plain": [
       "11.999728172193549"
      ]
     },
     "execution_count": 22,
     "metadata": {},
     "output_type": "execute_result"
    }
   ],
   "source": [
    "y_m=np.mean(y_test)\n",
    "rmse/y_m"
   ]
  },
  {
   "cell_type": "code",
   "execution_count": 23,
   "metadata": {},
   "outputs": [
    {
     "data": {
      "text/plain": [
       "<matplotlib.axes._subplots.AxesSubplot at 0x120fcad10>"
      ]
     },
     "execution_count": 23,
     "metadata": {},
     "output_type": "execute_result"
    },
    {
     "data": {
      "image/png": "[encoded data removed]",
      "text/plain": [
       "<matplotlib.figure.Figure at 0x1221a5f10>"
      ]
     },
     "metadata": {},
     "output_type": "display_data"
    }
   ],
   "source": [
    "sns.distplot(y_test - y_pred)"
   ]
  },
  {
   "cell_type": "code",
   "execution_count": 24,
   "metadata": {},
   "outputs": [
    {
     "data": {
      "text/html": [
       "<table class=\"simpletable\">\n",
       "<caption>OLS Regression Results</caption>\n",
       "<tr>\n",
       "  <th>Dep. Variable:</th>            <td>y</td>        <th>  R-squared:         </th> <td>   0.010</td> \n",
       "</tr>\n",
       "<tr>\n",
       "  <th>Model:</th>                   <td>OLS</td>       <th>  Adj. R-squared:    </th> <td>   0.004</td> \n",
       "</tr>\n",
       "<tr>\n",
       "  <th>Method:</th>             <td>Least Squares</td>  <th>  F-statistic:       </th> <td>   1.742</td> \n",
       "</tr>\n",
       "<tr>\n",
       "  <th>Date:</th>             <td>Wed, 13 Dec 2017</td> <th>  Prob (F-statistic):</th>  <td> 0.108</td>  \n",
       "</tr>\n",
       "<tr>\n",
       "  <th>Time:</th>                 <td>18:32:27</td>     <th>  Log-Likelihood:    </th> <td> -7898.0</td> \n",
       "</tr>\n",
       "<tr>\n",
       "  <th>No. Observations:</th>      <td>  1013</td>      <th>  AIC:               </th> <td>1.581e+04</td>\n",
       "</tr>\n",
       "<tr>\n",
       "  <th>Df Residuals:</th>          <td>  1007</td>      <th>  BIC:               </th> <td>1.584e+04</td>\n",
       "</tr>\n",
       "<tr>\n",
       "  <th>Df Model:</th>              <td>     6</td>      <th>                     </th>     <td> </td>    \n",
       "</tr>\n",
       "<tr>\n",
       "  <th>Covariance Type:</th>      <td>nonrobust</td>    <th>                     </th>     <td> </td>    \n",
       "</tr>\n",
       "</table>\n",
       "<table class=\"simpletable\">\n",
       "<tr>\n",
       "   <td></td>     <th>coef</th>     <th>std err</th>      <th>t</th>      <th>P>|t|</th>  <th>[0.025</th>    <th>0.975]</th>  \n",
       "</tr>\n",
       "<tr>\n",
       "  <th>x1</th> <td>   94.3223</td> <td>   36.426</td> <td>    2.589</td> <td> 0.010</td> <td>   22.842</td> <td>  165.802</td>\n",
       "</tr>\n",
       "<tr>\n",
       "  <th>x2</th> <td>  -22.6237</td> <td>   26.223</td> <td>   -0.863</td> <td> 0.388</td> <td>  -74.082</td> <td>   28.835</td>\n",
       "</tr>\n",
       "<tr>\n",
       "  <th>x3</th> <td>  -10.6625</td> <td>   23.298</td> <td>   -0.458</td> <td> 0.647</td> <td>  -56.380</td> <td>   35.055</td>\n",
       "</tr>\n",
       "<tr>\n",
       "  <th>x4</th> <td>  -44.8628</td> <td>   29.693</td> <td>   -1.511</td> <td> 0.131</td> <td> -103.131</td> <td>   13.405</td>\n",
       "</tr>\n",
       "<tr>\n",
       "  <th>x5</th> <td>  -47.4622</td> <td>   29.689</td> <td>   -1.599</td> <td> 0.110</td> <td> -105.722</td> <td>   10.797</td>\n",
       "</tr>\n",
       "<tr>\n",
       "  <th>x6</th> <td>  -80.4708</td> <td>   34.926</td> <td>   -2.304</td> <td> 0.021</td> <td> -149.007</td> <td>  -11.935</td>\n",
       "</tr>\n",
       "</table>\n",
       "<table class=\"simpletable\">\n",
       "<tr>\n",
       "  <th>Omnibus:</th>       <td>2035.920</td> <th>  Durbin-Watson:     </th>  <td>   2.006</td>  \n",
       "</tr>\n",
       "<tr>\n",
       "  <th>Prob(Omnibus):</th>  <td> 0.000</td>  <th>  Jarque-Bera (JB):  </th> <td>3335037.919</td>\n",
       "</tr>\n",
       "<tr>\n",
       "  <th>Skew:</th>           <td>15.446</td>  <th>  Prob(JB):          </th>  <td>    0.00</td>  \n",
       "</tr>\n",
       "<tr>\n",
       "  <th>Kurtosis:</th>       <td>282.391</td> <th>  Cond. No.          </th>  <td>    4.87</td>  \n",
       "</tr>\n",
       "</table>"
      ],
      "text/plain": [
       "<class 'statsmodels.iolib.summary.Summary'>\n",
       "\"\"\"\n",
       "                            OLS Regression Results                            \n",
       "==============================================================================\n",
       "Dep. Variable:                      y   R-squared:                       0.010\n",
       "Model:                            OLS   Adj. R-squared:                  0.004\n",
       "Method:                 Least Squares   F-statistic:                     1.742\n",
       "Date:                Wed, 13 Dec 2017   Prob (F-statistic):              0.108\n",
       "Time:                        18:32:27   Log-Likelihood:                -7898.0\n",
       "No. Observations:                1013   AIC:                         1.581e+04\n",
       "Df Residuals:                    1007   BIC:                         1.584e+04\n",
       "Df Model:                           6                                         \n",
       "Covariance Type:            nonrobust                                         \n",
       "==============================================================================\n",
       "                 coef    std err          t      P>|t|      [0.025      0.975]\n",
       "------------------------------------------------------------------------------\n",
       "x1            94.3223     36.426      2.589      0.010      22.842     165.802\n",
       "x2           -22.6237     26.223     -0.863      0.388     -74.082      28.835\n",
       "x3           -10.6625     23.298     -0.458      0.647     -56.380      35.055\n",
       "x4           -44.8628     29.693     -1.511      0.131    -103.131      13.405\n",
       "x5           -47.4622     29.689     -1.599      0.110    -105.722      10.797\n",
       "x6           -80.4708     34.926     -2.304      0.021    -149.007     -11.935\n",
       "==============================================================================\n",
       "Omnibus:                     2035.920   Durbin-Watson:                   2.006\n",
       "Prob(Omnibus):                  0.000   Jarque-Bera (JB):          3335037.919\n",
       "Skew:                          15.446   Prob(JB):                         0.00\n",
       "Kurtosis:                     282.391   Cond. No.                         4.87\n",
       "==============================================================================\n",
       "\n",
       "Warnings:\n",
       "[1] Standard Errors assume that the covariance matrix of the errors is correctly specified.\n",
       "\"\"\""
      ]
     },
     "execution_count": 24,
     "metadata": {},
     "output_type": "execute_result"
    }
   ],
   "source": [
    "model2 = sm.OLS(y_train, X_train)\n",
    "results = model2.fit()\n",
    "# Statsmodels gives R-like statistical output\n",
    "results.summary()"
   ]
  },
  {
   "cell_type": "code",
   "execution_count": 25,
   "metadata": {},
   "outputs": [
    {
     "data": {
      "image/png": "[encoded data removed]",
      "text/plain": [
       "<matplotlib.figure.Figure at 0x122468290>"
      ]
     },
     "metadata": {},
     "output_type": "display_data"
    }
   ],
   "source": [
    "sns.pairplot(df3, x_vars=['Avg_temp','Rain','pressure'], y_vars='total_case', size=7, aspect=0.8, kind='reg')  \n",
    "plt.show()"
   ]
  },
  {
   "cell_type": "code",
   "execution_count": 26,
   "metadata": {},
   "outputs": [
    {
     "data": {
      "image/png": "[encoded data removed]",
      "text/plain": [
       "<matplotlib.figure.Figure at 0x12276abd0>"
      ]
     },
     "metadata": {},
     "output_type": "display_data"
    }
   ],
   "source": [
    "sns.pairplot(df3, x_vars=['rain_day','sun_hr'], y_vars='total_case', size=7, aspect=0.8, kind='reg')  \n",
    "plt.show()"
   ]
  },
  {
   "cell_type": "code",
   "execution_count": 27,
   "metadata": {},
   "outputs": [
    {
     "data": {
      "image/png": "[encoded data removed]",
      "text/plain": [
       "<matplotlib.figure.Figure at 0x1227bdf50>"
      ]
     },
     "metadata": {},
     "output_type": "display_data"
    }
   ],
   "source": [
    "## Q-Q plot for normality\n",
    "# 使用這個圖去看是否符合我們誤差為0的情況下的相關性\n",
    "weather_model = ols(\"total_case ~ Avg_temp + Rain + pressure + rain_day + sun_hr -1\", data=df3).fit()\n",
    "fig1=sm.qqplot(weather_model.resid, line='r')\n",
    "plt.show()"
   ]
  },
  {
   "cell_type": "code",
   "execution_count": 28,
   "metadata": {},
   "outputs": [
    {
     "name": "stdout",
     "output_type": "stream",
     "text": [
      "[<matplotlib.lines.Line2D object at 0x120ece210>]\n"
     ]
    },
    {
     "data": {
      "image/png": "[encoded data removed]",
      "text/plain": [
       "<matplotlib.figure.Figure at 0x1225a9bd0>"
      ]
     },
     "metadata": {},
     "output_type": "display_data"
    }
   ],
   "source": [
    "# simple plot of residuals\n",
    "\n",
    "stdres=pd.DataFrame(weather_model.resid_pearson)\n",
    "fig2 = plt.plot(stdres, 'o', ls='None')\n",
    "l = plt.axhline(y=0, color='r')\n",
    "plt.ylabel('Standardized Residual')\n",
    "plt.xlabel('Observation Number')\n",
    "print (fig2)"
   ]
  },
  {
   "cell_type": "code",
   "execution_count": 29,
   "metadata": {},
   "outputs": [
    {
     "name": "stdout",
     "output_type": "stream",
     "text": [
      "Figure(432x288)\n"
     ]
    },
    {
     "data": {
      "image/png": "[encoded data removed]",
      "text/plain": [
       "<matplotlib.figure.Figure at 0x120ee9d10>"
      ]
     },
     "metadata": {},
     "output_type": "display_data"
    }
   ],
   "source": [
    "# leverage plot\n",
    "# 這是看是否有極端的Ｘ值，從這個圖來看，顯然是分佈成一條線\n",
    "fig5=sm.graphics.influence_plot(weather_model, size=15)\n",
    "print(fig5)"
   ]
  },
  {
   "cell_type": "code",
   "execution_count": 30,
   "metadata": {},
   "outputs": [
    {
     "data": {
      "text/html": [
       "<div>\n",
       "<style>\n",
       "    .dataframe thead tr:only-child th {\n",
       "        text-align: right;\n",
       "    }\n",
       "\n",
       "    .dataframe thead th {\n",
       "        text-align: left;\n",
       "    }\n",
       "\n",
       "    .dataframe tbody tr th {\n",
       "        vertical-align: top;\n",
       "    }\n",
       "</style>\n",
       "<table border=\"1\" class=\"dataframe\">\n",
       "  <thead>\n",
       "    <tr style=\"text-align: right;\">\n",
       "      <th></th>\n",
       "      <th>Station</th>\n",
       "      <th>County</th>\n",
       "      <th>Avg_temp</th>\n",
       "      <th>h_temp/\n",
       "Day</th>\n",
       "      <th>low_temp/\n",
       "Day</th>\n",
       "      <th>Rain</th>\n",
       "      <th>rela_hum</th>\n",
       "      <th>small_hum/\n",
       "Day</th>\n",
       "      <th>pressure</th>\n",
       "      <th>rain_day</th>\n",
       "      <th>sun_hr</th>\n",
       "      <th>Year</th>\n",
       "      <th>Month</th>\n",
       "      <th>total_case</th>\n",
       "      <th>Level</th>\n",
       "    </tr>\n",
       "  </thead>\n",
       "  <tbody>\n",
       "    <tr>\n",
       "      <th>0</th>\n",
       "      <td>Anbu</td>\n",
       "      <td>Taipei City</td>\n",
       "      <td>10.9</td>\n",
       "      <td>24.1/11</td>\n",
       "      <td>2.5/2</td>\n",
       "      <td>352.0</td>\n",
       "      <td>92</td>\n",
       "      <td>55/20</td>\n",
       "      <td>925.7</td>\n",
       "      <td>21</td>\n",
       "      <td>35.6</td>\n",
       "      <td>2008</td>\n",
       "      <td>1</td>\n",
       "      <td>3</td>\n",
       "      <td>0</td>\n",
       "    </tr>\n",
       "    <tr>\n",
       "      <th>1</th>\n",
       "      <td>Taipei</td>\n",
       "      <td>Taipei City</td>\n",
       "      <td>16.5</td>\n",
       "      <td>28.8/11</td>\n",
       "      <td>10.2/2</td>\n",
       "      <td>85.8</td>\n",
       "      <td>81</td>\n",
       "      <td>44/20</td>\n",
       "      <td>1020.3</td>\n",
       "      <td>15</td>\n",
       "      <td>61.2</td>\n",
       "      <td>2008</td>\n",
       "      <td>1</td>\n",
       "      <td>3</td>\n",
       "      <td>0</td>\n",
       "    </tr>\n",
       "    <tr>\n",
       "      <th>2</th>\n",
       "      <td>Zhuzihu</td>\n",
       "      <td>Taipei City</td>\n",
       "      <td>12.6</td>\n",
       "      <td>25.6/11</td>\n",
       "      <td>4.6/2</td>\n",
       "      <td>313.0</td>\n",
       "      <td>88</td>\n",
       "      <td>53/9</td>\n",
       "      <td>949.6</td>\n",
       "      <td>20</td>\n",
       "      <td>70.3</td>\n",
       "      <td>2008</td>\n",
       "      <td>1</td>\n",
       "      <td>3</td>\n",
       "      <td>0</td>\n",
       "    </tr>\n",
       "    <tr>\n",
       "      <th>3</th>\n",
       "      <td>Banqiao</td>\n",
       "      <td>New Taipei City</td>\n",
       "      <td>16.6</td>\n",
       "      <td>29.1/11</td>\n",
       "      <td>9.3/2</td>\n",
       "      <td>81.0</td>\n",
       "      <td>80</td>\n",
       "      <td>45/20</td>\n",
       "      <td>1019.2</td>\n",
       "      <td>13</td>\n",
       "      <td>65.4</td>\n",
       "      <td>2008</td>\n",
       "      <td>1</td>\n",
       "      <td>1</td>\n",
       "      <td>0</td>\n",
       "    </tr>\n",
       "    <tr>\n",
       "      <th>4</th>\n",
       "      <td>Tamsui</td>\n",
       "      <td>New Taipei City</td>\n",
       "      <td>15.6</td>\n",
       "      <td>25.1/9</td>\n",
       "      <td>8.6/2</td>\n",
       "      <td>107.5</td>\n",
       "      <td>79</td>\n",
       "      <td>48/9</td>\n",
       "      <td>1018.5</td>\n",
       "      <td>14</td>\n",
       "      <td>57.2</td>\n",
       "      <td>2008</td>\n",
       "      <td>1</td>\n",
       "      <td>1</td>\n",
       "      <td>0</td>\n",
       "    </tr>\n",
       "  </tbody>\n",
       "</table>\n",
       "</div>"
      ],
      "text/plain": [
       "   Station           County  Avg_temp h_temp/\\nDay low_temp/\\nDay   Rain  \\\n",
       "0     Anbu      Taipei City      10.9      24.1/11          2.5/2  352.0   \n",
       "1   Taipei      Taipei City      16.5      28.8/11         10.2/2   85.8   \n",
       "2  Zhuzihu      Taipei City      12.6      25.6/11          4.6/2  313.0   \n",
       "3  Banqiao  New Taipei City      16.6      29.1/11          9.3/2   81.0   \n",
       "4   Tamsui  New Taipei City      15.6       25.1/9          8.6/2  107.5   \n",
       "\n",
       "   rela_hum small_hum/\\nDay  pressure  rain_day  sun_hr  Year  Month  \\\n",
       "0        92           55/20     925.7        21    35.6  2008      1   \n",
       "1        81           44/20    1020.3        15    61.2  2008      1   \n",
       "2        88            53/9     949.6        20    70.3  2008      1   \n",
       "3        80           45/20    1019.2        13    65.4  2008      1   \n",
       "4        79            48/9    1018.5        14    57.2  2008      1   \n",
       "\n",
       "   total_case  Level  \n",
       "0           3      0  \n",
       "1           3      0  \n",
       "2           3      0  \n",
       "3           1      0  \n",
       "4           1      0  "
      ]
     },
     "execution_count": 30,
     "metadata": {},
     "output_type": "execute_result"
    }
   ],
   "source": [
    "df3.head()"
   ]
  },
  {
   "cell_type": "code",
   "execution_count": 31,
   "metadata": {
    "collapsed": true
   },
   "outputs": [],
   "source": [
    "from sklearn import linear_model\n",
    "from sklearn import cross_validation\n",
    "from sklearn import svm\n",
    "from sklearn.ensemble import RandomForestRegressor\n",
    "from sklearn.learning_curve import learning_curve\n",
    "from sklearn.grid_search import GridSearchCV\n",
    "from sklearn.metrics import explained_variance_score"
   ]
  },
  {
   "cell_type": "code",
   "execution_count": 32,
   "metadata": {},
   "outputs": [
    {
     "data": {
      "image/png": "[encoded data removed]",
      "text/plain": [
       "<matplotlib.figure.Figure at 0x122b00250>"
      ]
     },
     "metadata": {},
     "output_type": "display_data"
    },
    {
     "name": "stdout",
     "output_type": "stream",
     "text": [
      "[0.57137120790655704, 0.37189455104367652, 0.34763828727558654, 0.36945536748338592, 0.28881719923933208, 0.24952233574921623, 0.18280000953537875, 0.21399035463157104, 0.22064354552149856]\n"
     ]
    }
   ],
   "source": [
    "# k-means\n",
    "from sklearn.cluster import KMeans\n",
    "from sklearn import cluster, datasets, metrics\n",
    "X_km = df3[['Avg_temp', 'Rain', 'rela_hum', 'pressure', 'rain_day', 'sun_hr', 'total_case']].values\n",
    "silhouette_avgs = []\n",
    "ks = range(2, 11)\n",
    "for k in ks:\n",
    "    kmeans_fit = cluster.KMeans(n_clusters = k).fit(X)\n",
    "    cluster_labels = kmeans_fit.labels_\n",
    "    silhouette_avg = metrics.silhouette_score(X_km, cluster_labels)\n",
    "    silhouette_avgs.append(silhouette_avg)\n",
    "\n",
    "# 作圖並印出 k = 2 到 10 的績效\n",
    "plt.bar(ks, silhouette_avgs)\n",
    "plt.show()\n",
    "print(silhouette_avgs)"
   ]
  },
  {
   "cell_type": "code",
   "execution_count": 33,
   "metadata": {},
   "outputs": [
    {
     "name": "stdout",
     "output_type": "stream",
     "text": [
      "[0 0 0 ..., 0 0 0]\n",
      "[[   22.30582929   207.43976405    78.06523248   979.27848716    11.7925052\n",
      "    148.18736988    16.97501735]\n",
      " [   25.7          122.34285714    74.85714286  1011.55714286\n",
      "      9.85714286   144.84285714  6538.42857143]]\n",
      "183332537.434\n"
     ]
    }
   ],
   "source": [
    "#k=2 have great situation, so cluster use 2           \n",
    "estimator=KMeans(n_clusters=2) \n",
    "res=estimator.fit_predict(X_km)\n",
    "lable_pred=estimator.labels_\n",
    "centroids=estimator.cluster_centers_\n",
    "inertia=estimator.inertia_\n",
    "#print res\n",
    "print (lable_pred)\n",
    "print (centroids)\n",
    "print (inertia)\n"
   ]
  },
  {
   "cell_type": "code",
   "execution_count": 34,
   "metadata": {
    "collapsed": true
   },
   "outputs": [],
   "source": [
    "# from this consequence, we can find that heigher temp ,lower humity have heigher case"
   ]
  },
  {
   "cell_type": "code",
   "execution_count": 35,
   "metadata": {},
   "outputs": [
    {
     "name": "stdout",
     "output_type": "stream",
     "text": [
      "df_train_data shape is  (1448, 6)\n",
      "df_train_target shape is  (1448,)\n"
     ]
    }
   ],
   "source": [
    "#開始檢測ＳＶＭ\n",
    "df_train_target = df3['Level'].values\n",
    "df_train_data = df3[['Avg_temp', 'Rain', 'rela_hum', 'pressure', 'rain_day', 'sun_hr']]\n",
    "print( 'df_train_data shape is ', df_train_data.shape)\n",
    "print( 'df_train_target shape is ', df_train_target.shape)"
   ]
  },
  {
   "cell_type": "code",
   "execution_count": 36,
   "metadata": {},
   "outputs": [
    {
     "data": {
      "text/plain": [
       "SVC(C=1.0, cache_size=200, class_weight=None, coef0=0.0,\n",
       "  decision_function_shape=None, degree=3, gamma='auto', kernel='rbf',\n",
       "  max_iter=-1, probability=False, random_state=None, shrinking=True,\n",
       "  tol=0.001, verbose=False)"
      ]
     },
     "execution_count": 36,
     "metadata": {},
     "output_type": "execute_result"
    }
   ],
   "source": [
    "X = df_train_data\n",
    "y = df_train_target\n",
    "\n",
    "X_train, X_test, y_train, y_test = cross_validation.train_test_split(\n",
    "    X, y, test_size=0.2, random_state=0)\n",
    "\n",
    "from sklearn.svm import SVC\n",
    "model = SVC()\n",
    "\n",
    "#使用Support Vector Classifier來建立模型\n",
    "model.fit(X_train,y_train)"
   ]
  },
  {
   "cell_type": "code",
   "execution_count": 37,
   "metadata": {},
   "outputs": [
    {
     "name": "stdout",
     "output_type": "stream",
     "text": [
      "[[248   0   0]\n",
      " [ 36   0   0]\n",
      " [  6   0   0]]\n",
      "\n",
      "\n",
      "             precision    recall  f1-score   support\n",
      "\n",
      "          0       0.86      1.00      0.92       248\n",
      "          1       0.00      0.00      0.00        36\n",
      "          2       0.00      0.00      0.00         6\n",
      "\n",
      "avg / total       0.73      0.86      0.79       290\n",
      "\n"
     ]
    }
   ],
   "source": [
    "predictions = model.predict(X_test)\n",
    "\n",
    "#載入classification_report & confusion_matrix來評估模型好壞\n",
    "from sklearn.metrics import classification_report,confusion_matrix\n",
    "print(confusion_matrix(y_test,predictions))\n",
    "print('\\n')\n",
    "print(classification_report(y_test,predictions))"
   ]
  },
  {
   "cell_type": "code",
   "execution_count": 38,
   "metadata": {},
   "outputs": [
    {
     "name": "stdout",
     "output_type": "stream",
     "text": [
      "Fitting 3 folds for each of 25 candidates, totalling 75 fits\n",
      "[CV] C=0.1, gamma=1 ..................................................\n",
      "[CV] ................... C=0.1, gamma=1, score=0.875969, total=   0.0s\n",
      "[CV] C=0.1, gamma=1 ..................................................\n",
      "[CV] ................... C=0.1, gamma=1, score=0.878238, total=   0.0s\n",
      "[CV] C=0.1, gamma=1 ..................................................\n",
      "[CV] ................... C=0.1, gamma=1, score=0.877922, total=   0.0s\n",
      "[CV] C=0.1, gamma=0.1 ................................................\n",
      "[CV] ................. C=0.1, gamma=0.1, score=0.875969, total=   0.0s\n",
      "[CV] C=0.1, gamma=0.1 ................................................\n",
      "[CV] ................. C=0.1, gamma=0.1, score=0.878238, total=   0.0s\n",
      "[CV] C=0.1, gamma=0.1 ................................................\n"
     ]
    },
    {
     "name": "stderr",
     "output_type": "stream",
     "text": [
      "[Parallel(n_jobs=1)]: Done   1 out of   1 | elapsed:    0.0s remaining:    0.0s\n",
      "[Parallel(n_jobs=1)]: Done   2 out of   2 | elapsed:    0.1s remaining:    0.0s\n"
     ]
    },
    {
     "name": "stdout",
     "output_type": "stream",
     "text": [
      "[CV] ................. C=0.1, gamma=0.1, score=0.877922, total=   0.0s\n",
      "[CV] C=0.1, gamma=0.01 ...............................................\n",
      "[CV] ................ C=0.1, gamma=0.01, score=0.875969, total=   0.0s\n",
      "[CV] C=0.1, gamma=0.01 ...............................................\n",
      "[CV] ................ C=0.1, gamma=0.01, score=0.878238, total=   0.0s\n",
      "[CV] C=0.1, gamma=0.01 ...............................................\n",
      "[CV] ................ C=0.1, gamma=0.01, score=0.877922, total=   0.0s\n",
      "[CV] C=0.1, gamma=0.001 ..............................................\n",
      "[CV] ............... C=0.1, gamma=0.001, score=0.875969, total=   0.0s\n",
      "[CV] C=0.1, gamma=0.001 ..............................................\n",
      "[CV] ............... C=0.1, gamma=0.001, score=0.878238, total=   0.0s\n",
      "[CV] C=0.1, gamma=0.001 ..............................................\n",
      "[CV] ............... C=0.1, gamma=0.001, score=0.877922, total=   0.0s\n",
      "[CV] C=0.1, gamma=0.0001 .............................................\n",
      "[CV] .............. C=0.1, gamma=0.0001, score=0.875969, total=   0.0s\n",
      "[CV] C=0.1, gamma=0.0001 .............................................\n",
      "[CV] .............. C=0.1, gamma=0.0001, score=0.878238, total=   0.0s\n",
      "[CV] C=0.1, gamma=0.0001 .............................................\n",
      "[CV] .............. C=0.1, gamma=0.0001, score=0.877922, total=   0.0s\n",
      "[CV] C=1, gamma=1 ....................................................\n",
      "[CV] ..................... C=1, gamma=1, score=0.875969, total=   0.0s\n",
      "[CV] C=1, gamma=1 ....................................................\n",
      "[CV] ..................... C=1, gamma=1, score=0.878238, total=   0.0s\n",
      "[CV] C=1, gamma=1 ....................................................\n",
      "[CV] ..................... C=1, gamma=1, score=0.877922, total=   0.0s\n",
      "[CV] C=1, gamma=0.1 ..................................................\n",
      "[CV] ................... C=1, gamma=0.1, score=0.875969, total=   0.0s\n",
      "[CV] C=1, gamma=0.1 ..................................................\n",
      "[CV] ................... C=1, gamma=0.1, score=0.878238, total=   0.0s\n",
      "[CV] C=1, gamma=0.1 ..................................................\n",
      "[CV] ................... C=1, gamma=0.1, score=0.877922, total=   0.0s\n",
      "[CV] C=1, gamma=0.01 .................................................\n",
      "[CV] .................. C=1, gamma=0.01, score=0.873385, total=   0.1s\n",
      "[CV] C=1, gamma=0.01 .................................................\n",
      "[CV] .................. C=1, gamma=0.01, score=0.875648, total=   0.0s\n",
      "[CV] C=1, gamma=0.01 .................................................\n",
      "[CV] .................. C=1, gamma=0.01, score=0.877922, total=   0.1s\n",
      "[CV] C=1, gamma=0.001 ................................................\n",
      "[CV] ................. C=1, gamma=0.001, score=0.875969, total=   0.0s\n",
      "[CV] C=1, gamma=0.001 ................................................\n",
      "[CV] ................. C=1, gamma=0.001, score=0.878238, total=   0.0s\n",
      "[CV] C=1, gamma=0.001 ................................................\n",
      "[CV] ................. C=1, gamma=0.001, score=0.877922, total=   0.0s\n",
      "[CV] C=1, gamma=0.0001 ...............................................\n",
      "[CV] ................ C=1, gamma=0.0001, score=0.875969, total=   0.0s\n",
      "[CV] C=1, gamma=0.0001 ...............................................\n",
      "[CV] ................ C=1, gamma=0.0001, score=0.878238, total=   0.0s\n",
      "[CV] C=1, gamma=0.0001 ...............................................\n",
      "[CV] ................ C=1, gamma=0.0001, score=0.877922, total=   0.0s\n",
      "[CV] C=10, gamma=1 ...................................................\n",
      "[CV] .................... C=10, gamma=1, score=0.875969, total=   0.0s\n",
      "[CV] C=10, gamma=1 ...................................................\n",
      "[CV] .................... C=10, gamma=1, score=0.878238, total=   0.0s\n",
      "[CV] C=10, gamma=1 ...................................................\n",
      "[CV] .................... C=10, gamma=1, score=0.877922, total=   0.0s\n",
      "[CV] C=10, gamma=0.1 .................................................\n",
      "[CV] .................. C=10, gamma=0.1, score=0.875969, total=   0.0s\n",
      "[CV] C=10, gamma=0.1 .................................................\n",
      "[CV] .................. C=10, gamma=0.1, score=0.878238, total=   0.0s\n",
      "[CV] C=10, gamma=0.1 .................................................\n",
      "[CV] .................. C=10, gamma=0.1, score=0.877922, total=   0.1s\n",
      "[CV] C=10, gamma=0.01 ................................................\n",
      "[CV] ................. C=10, gamma=0.01, score=0.852713, total=   0.1s\n",
      "[CV] C=10, gamma=0.01 ................................................\n",
      "[CV] ................. C=10, gamma=0.01, score=0.836788, total=   0.1s\n",
      "[CV] C=10, gamma=0.01 ................................................\n",
      "[CV] ................. C=10, gamma=0.01, score=0.851948, total=   0.1s\n",
      "[CV] C=10, gamma=0.001 ...............................................\n",
      "[CV] ................ C=10, gamma=0.001, score=0.842377, total=   0.0s\n",
      "[CV] C=10, gamma=0.001 ...............................................\n",
      "[CV] ................ C=10, gamma=0.001, score=0.836788, total=   0.0s\n",
      "[CV] C=10, gamma=0.001 ...............................................\n",
      "[CV] ................ C=10, gamma=0.001, score=0.838961, total=   0.0s\n",
      "[CV] C=10, gamma=0.0001 ..............................................\n",
      "[CV] ............... C=10, gamma=0.0001, score=0.878553, total=   0.0s\n",
      "[CV] C=10, gamma=0.0001 ..............................................\n",
      "[CV] ............... C=10, gamma=0.0001, score=0.873057, total=   0.0s\n",
      "[CV] C=10, gamma=0.0001 ..............................................\n",
      "[CV] ............... C=10, gamma=0.0001, score=0.872727, total=   0.0s\n",
      "[CV] C=100, gamma=1 ..................................................\n",
      "[CV] ................... C=100, gamma=1, score=0.875969, total=   0.0s\n",
      "[CV] C=100, gamma=1 ..................................................\n",
      "[CV] ................... C=100, gamma=1, score=0.878238, total=   0.0s\n",
      "[CV] C=100, gamma=1 ..................................................\n",
      "[CV] ................... C=100, gamma=1, score=0.877922, total=   0.0s\n",
      "[CV] C=100, gamma=0.1 ................................................\n",
      "[CV] ................. C=100, gamma=0.1, score=0.875969, total=   0.0s\n",
      "[CV] C=100, gamma=0.1 ................................................\n",
      "[CV] ................. C=100, gamma=0.1, score=0.878238, total=   0.0s\n",
      "[CV] C=100, gamma=0.1 ................................................\n",
      "[CV] ................. C=100, gamma=0.1, score=0.877922, total=   0.0s\n",
      "[CV] C=100, gamma=0.01 ...............................................\n",
      "[CV] ................ C=100, gamma=0.01, score=0.852713, total=   0.1s\n",
      "[CV] C=100, gamma=0.01 ...............................................\n",
      "[CV] ................ C=100, gamma=0.01, score=0.836788, total=   0.1s\n",
      "[CV] C=100, gamma=0.01 ...............................................\n",
      "[CV] ................ C=100, gamma=0.01, score=0.851948, total=   0.1s\n",
      "[CV] C=100, gamma=0.001 ..............................................\n",
      "[CV] ............... C=100, gamma=0.001, score=0.785530, total=   0.0s\n",
      "[CV] C=100, gamma=0.001 ..............................................\n",
      "[CV] ............... C=100, gamma=0.001, score=0.795337, total=   0.0s\n",
      "[CV] C=100, gamma=0.001 ..............................................\n",
      "[CV] ............... C=100, gamma=0.001, score=0.815584, total=   0.0s\n",
      "[CV] C=100, gamma=0.0001 .............................................\n",
      "[CV] .............. C=100, gamma=0.0001, score=0.844961, total=   0.1s\n",
      "[CV] C=100, gamma=0.0001 .............................................\n",
      "[CV] .............. C=100, gamma=0.0001, score=0.847150, total=   0.0s\n",
      "[CV] C=100, gamma=0.0001 .............................................\n",
      "[CV] .............. C=100, gamma=0.0001, score=0.841558, total=   0.0s\n",
      "[CV] C=1000, gamma=1 .................................................\n",
      "[CV] .................. C=1000, gamma=1, score=0.875969, total=   0.0s\n",
      "[CV] C=1000, gamma=1 .................................................\n",
      "[CV] .................. C=1000, gamma=1, score=0.878238, total=   0.0s\n",
      "[CV] C=1000, gamma=1 .................................................\n",
      "[CV] .................. C=1000, gamma=1, score=0.877922, total=   0.0s\n",
      "[CV] C=1000, gamma=0.1 ...............................................\n",
      "[CV] ................ C=1000, gamma=0.1, score=0.875969, total=   0.0s\n",
      "[CV] C=1000, gamma=0.1 ...............................................\n",
      "[CV] ................ C=1000, gamma=0.1, score=0.878238, total=   0.1s\n",
      "[CV] C=1000, gamma=0.1 ...............................................\n"
     ]
    },
    {
     "name": "stdout",
     "output_type": "stream",
     "text": [
      "[CV] ................ C=1000, gamma=0.1, score=0.877922, total=   0.0s\n",
      "[CV] C=1000, gamma=0.01 ..............................................\n",
      "[CV] ............... C=1000, gamma=0.01, score=0.852713, total=   0.1s\n",
      "[CV] C=1000, gamma=0.01 ..............................................\n",
      "[CV] ............... C=1000, gamma=0.01, score=0.836788, total=   0.1s\n",
      "[CV] C=1000, gamma=0.01 ..............................................\n",
      "[CV] ............... C=1000, gamma=0.01, score=0.851948, total=   0.1s\n",
      "[CV] C=1000, gamma=0.001 .............................................\n",
      "[CV] .............. C=1000, gamma=0.001, score=0.785530, total=   0.0s\n",
      "[CV] C=1000, gamma=0.001 .............................................\n",
      "[CV] .............. C=1000, gamma=0.001, score=0.790155, total=   0.0s\n",
      "[CV] C=1000, gamma=0.001 .............................................\n",
      "[CV] .............. C=1000, gamma=0.001, score=0.812987, total=   0.0s\n",
      "[CV] C=1000, gamma=0.0001 ............................................\n",
      "[CV] ............. C=1000, gamma=0.0001, score=0.829457, total=   0.2s\n",
      "[CV] C=1000, gamma=0.0001 ............................................\n",
      "[CV] ............. C=1000, gamma=0.0001, score=0.803109, total=   0.1s\n",
      "[CV] C=1000, gamma=0.0001 ............................................\n",
      "[CV] ............. C=1000, gamma=0.0001, score=0.815584, total=   0.1s\n",
      "[[248   0   0]\n",
      " [ 36   0   0]\n",
      " [  6   0   0]]\n",
      "\n",
      "\n",
      "             precision    recall  f1-score   support\n",
      "\n",
      "          0       0.86      1.00      0.92       248\n",
      "          1       0.00      0.00      0.00        36\n",
      "          2       0.00      0.00      0.00         6\n",
      "\n",
      "avg / total       0.73      0.86      0.79       290\n",
      "\n"
     ]
    },
    {
     "name": "stderr",
     "output_type": "stream",
     "text": [
      "[Parallel(n_jobs=1)]: Done  75 out of  75 | elapsed:    4.3s finished\n"
     ]
    }
   ],
   "source": [
    "from sklearn.model_selection import GridSearchCV\n",
    "\n",
    "#GridSearchCV是建立一個dictionary來組合要測試的參數\n",
    "param_grid = {'C':[0.1,1,10,100,1000],'gamma':[1,0.1,0.01,0.001,0.0001]}\n",
    "\n",
    "#GridSearchCV算是一個meta-estimator，參數中帶有estimator，像是SVC，重點是會創造一個新的estimator，但又表現的一模一樣。也就是estimator=SVC時，就是作為分類器\n",
    "#Verbose可設定為任一整數，它只是代表數字越高，文字解釋越多\n",
    "grid = GridSearchCV(SVC(),param_grid,verbose=3)\n",
    "\n",
    "#利用剛剛設定的參數來找到最適合的模型\n",
    "grid.fit(X_train,y_train)\n",
    "\n",
    "#顯示最佳參數組合\n",
    "grid.best_params_\n",
    "\n",
    "#顯示最佳estimator參數\n",
    "grid.best_estimator_\n",
    "\n",
    "#利用剛剛的最佳參數再重新預測測試組\n",
    "grid_predictions = grid.predict(X_test)\n",
    "\n",
    "#評估新參數的預測結果好壞\n",
    "print(confusion_matrix(y_test,predictions))\n",
    "print('\\n')\n",
    "print(classification_report(y_test,grid_predictions))"
   ]
  },
  {
   "cell_type": "code",
   "execution_count": 39,
   "metadata": {},
   "outputs": [
    {
     "data": {
      "text/plain": [
       "0.85517241379310349"
      ]
     },
     "execution_count": 39,
     "metadata": {},
     "output_type": "execute_result"
    }
   ],
   "source": [
    "model.score(X_test, y_test)"
   ]
  },
  {
   "cell_type": "code",
   "execution_count": 40,
   "metadata": {},
   "outputs": [
    {
     "data": {
      "image/png": "[encoded data removed]",
      "text/plain": [
       "<matplotlib.figure.Figure at 0x11da83250>"
      ]
     },
     "metadata": {},
     "output_type": "display_data"
    }
   ],
   "source": [
    "def plot_learning_curve(estimator, title, X, y, ylim=None, cv=None,\n",
    "                        n_jobs=1, train_sizes=np.linspace(.1, 1.0, 5)):\n",
    "    \n",
    "    plt.figure()\n",
    "    plt.title(title)\n",
    "    if ylim is not None:\n",
    "        plt.ylim(*ylim)\n",
    "    plt.xlabel(\"Training examples\")\n",
    "    plt.ylabel(\"Score\")\n",
    "    train_sizes, train_scores, test_scores = learning_curve(\n",
    "        estimator, X, y, cv=cv, n_jobs=n_jobs, train_sizes=train_sizes)\n",
    "    train_scores_mean = np.mean(train_scores, axis=1)\n",
    "    train_scores_std = np.std(train_scores, axis=1)\n",
    "    test_scores_mean = np.mean(test_scores, axis=1)\n",
    "    test_scores_std = np.std(test_scores, axis=1)\n",
    "    plt.grid()\n",
    "\n",
    "    plt.fill_between(train_sizes, train_scores_mean - train_scores_std,\n",
    "                     train_scores_mean + train_scores_std, alpha=0.1,\n",
    "                     color=\"r\")\n",
    "    plt.fill_between(train_sizes, test_scores_mean - test_scores_std,\n",
    "                     test_scores_mean + test_scores_std, alpha=0.1, color=\"g\")\n",
    "    plt.plot(train_sizes, train_scores_mean, 'o-', color=\"r\",\n",
    "             label=\"Training score\")\n",
    "    plt.plot(train_sizes, test_scores_mean, 'o-', color=\"g\",\n",
    "             label=\"Cross-validation score\")\n",
    "\n",
    "    plt.legend(loc=\"best\")\n",
    "    return plt\n",
    "\n",
    "\n",
    "title = \"Learning Curves (Random Forest, n_estimators = 500)\"\n",
    "cv = cross_validation.ShuffleSplit(df_train_data.shape[0], n_iter=10,test_size=0.2, random_state=0)\n",
    "estimator = RandomForestRegressor(n_estimators = 500)\n",
    "plot_learning_curve(estimator, title, X, y, (0.0, 1.01), cv=cv, n_jobs=4)\n",
    "\n",
    "plt.show()"
   ]
  },
  {
   "cell_type": "code",
   "execution_count": 82,
   "metadata": {},
   "outputs": [],
   "source": [
    "#use deep learning CNN\n",
    "from keras.models import Sequential\n",
    "from keras.layers import Dense\n",
    "import numpy\n",
    "seed = 7\n",
    "numpy.random.seed(seed)"
   ]
  },
  {
   "cell_type": "code",
   "execution_count": 84,
   "metadata": {
    "collapsed": true
   },
   "outputs": [],
   "source": [
    "# create model\n",
    "model = Sequential()\n",
    "model.add(Dense(12, input_dim=6, init='uniform', activation='relu'))\n",
    "model.add(Dense(8, init='uniform', activation='relu'))\n",
    "model.add(Dense(1, init='uniform', activation='sigmoid'))\n"
   ]
  },
  {
   "cell_type": "code",
   "execution_count": 85,
   "metadata": {
    "collapsed": true
   },
   "outputs": [],
   "source": [
    "# Compile model\n",
    "model.compile(loss='binary_crossentropy', optimizer='adam', metrics=['accuracy'])"
   ]
  },
  {
   "cell_type": "code",
   "execution_count": 86,
   "metadata": {
    "collapsed": true
   },
   "outputs": [],
   "source": [
    "# translate to 1 and 0 to look serious or not\n",
    "df3['Level'].replace('2', '1', inplace=True)"
   ]
  },
  {
   "cell_type": "code",
   "execution_count": 87,
   "metadata": {},
   "outputs": [
    {
     "name": "stdout",
     "output_type": "stream",
     "text": [
      "Epoch 1/150\n",
      "1158/1158 [==============================] - 0s - loss: 0.4683 - acc: 0.8774     \n",
      "Epoch 2/150\n",
      "1158/1158 [==============================] - 0s - loss: 0.4308 - acc: 0.8774     \n",
      "Epoch 3/150\n",
      "1158/1158 [==============================] - 0s - loss: 0.4306 - acc: 0.8774     \n",
      "Epoch 4/150\n",
      "1158/1158 [==============================] - 0s - loss: 0.4290 - acc: 0.8774     \n",
      "Epoch 5/150\n",
      "1158/1158 [==============================] - 0s - loss: 0.4318 - acc: 0.8774     \n",
      "Epoch 6/150\n",
      "1158/1158 [==============================] - 0s - loss: 0.4276 - acc: 0.8774     \n",
      "Epoch 7/150\n",
      "1158/1158 [==============================] - 0s - loss: 0.4267 - acc: 0.8774     \n",
      "Epoch 8/150\n",
      "1158/1158 [==============================] - 0s - loss: 0.4258 - acc: 0.8774     \n",
      "Epoch 9/150\n",
      "1158/1158 [==============================] - 0s - loss: 0.4272 - acc: 0.8774     \n",
      "Epoch 10/150\n",
      "1158/1158 [==============================] - 0s - loss: 0.4269 - acc: 0.8774     \n",
      "Epoch 11/150\n",
      "1158/1158 [==============================] - 0s - loss: 0.4255 - acc: 0.8774     \n",
      "Epoch 12/150\n",
      "1158/1158 [==============================] - 0s - loss: 0.4244 - acc: 0.8774     \n",
      "Epoch 13/150\n",
      "1158/1158 [==============================] - 0s - loss: 0.4256 - acc: 0.8774     \n",
      "Epoch 14/150\n",
      "1158/1158 [==============================] - 0s - loss: 0.4275 - acc: 0.8774     \n",
      "Epoch 15/150\n",
      "1158/1158 [==============================] - 0s - loss: 0.4262 - acc: 0.8774     \n",
      "Epoch 16/150\n",
      "1158/1158 [==============================] - 0s - loss: 0.4226 - acc: 0.8774     \n",
      "Epoch 17/150\n",
      "1158/1158 [==============================] - 0s - loss: 0.4222 - acc: 0.8774     \n",
      "Epoch 18/150\n",
      "1158/1158 [==============================] - 0s - loss: 0.4222 - acc: 0.8774     \n",
      "Epoch 19/150\n",
      "1158/1158 [==============================] - 0s - loss: 0.4278 - acc: 0.8774     \n",
      "Epoch 20/150\n",
      "1158/1158 [==============================] - 0s - loss: 0.4241 - acc: 0.8774     \n",
      "Epoch 21/150\n",
      "1158/1158 [==============================] - 0s - loss: 0.4220 - acc: 0.8774     \n",
      "Epoch 22/150\n",
      "1158/1158 [==============================] - 0s - loss: 0.4204 - acc: 0.8774     \n",
      "Epoch 23/150\n",
      "1158/1158 [==============================] - 0s - loss: 0.4204 - acc: 0.8774     \n",
      "Epoch 24/150\n",
      "1158/1158 [==============================] - 0s - loss: 0.4219 - acc: 0.8774     \n",
      "Epoch 25/150\n",
      "1158/1158 [==============================] - 0s - loss: 0.4205 - acc: 0.8774     \n",
      "Epoch 26/150\n",
      "1158/1158 [==============================] - 0s - loss: 0.4218 - acc: 0.8774     \n",
      "Epoch 27/150\n",
      "1158/1158 [==============================] - 0s - loss: 0.4219 - acc: 0.8774     \n",
      "Epoch 28/150\n",
      "1158/1158 [==============================] - 0s - loss: 0.4201 - acc: 0.8774     \n",
      "Epoch 29/150\n",
      "1158/1158 [==============================] - 0s - loss: 0.4212 - acc: 0.8774     \n",
      "Epoch 30/150\n",
      "1158/1158 [==============================] - 0s - loss: 0.4210 - acc: 0.8774     \n",
      "Epoch 31/150\n",
      "1158/1158 [==============================] - 0s - loss: 0.4189 - acc: 0.8774     \n",
      "Epoch 32/150\n",
      "1158/1158 [==============================] - 0s - loss: 0.4202 - acc: 0.8774     \n",
      "Epoch 33/150\n",
      "1158/1158 [==============================] - 0s - loss: 0.4185 - acc: 0.8774     \n",
      "Epoch 34/150\n",
      "1158/1158 [==============================] - 0s - loss: 0.4183 - acc: 0.8774     \n",
      "Epoch 35/150\n",
      "1158/1158 [==============================] - 0s - loss: 0.4234 - acc: 0.8774     \n",
      "Epoch 36/150\n",
      "1158/1158 [==============================] - 0s - loss: 0.4217 - acc: 0.8774     \n",
      "Epoch 37/150\n",
      "1158/1158 [==============================] - 0s - loss: 0.4206 - acc: 0.8774     \n",
      "Epoch 38/150\n",
      "1158/1158 [==============================] - 0s - loss: 0.4178 - acc: 0.8774     \n",
      "Epoch 39/150\n",
      "1158/1158 [==============================] - 0s - loss: 0.4190 - acc: 0.8774     \n",
      "Epoch 40/150\n",
      "1158/1158 [==============================] - 0s - loss: 0.4183 - acc: 0.8774     \n",
      "Epoch 41/150\n",
      "1158/1158 [==============================] - 0s - loss: 0.4168 - acc: 0.8774     \n",
      "Epoch 42/150\n",
      "1158/1158 [==============================] - 0s - loss: 0.4184 - acc: 0.8774     \n",
      "Epoch 43/150\n",
      "1158/1158 [==============================] - 0s - loss: 0.4175 - acc: 0.8774     \n",
      "Epoch 44/150\n",
      "1158/1158 [==============================] - 0s - loss: 0.4154 - acc: 0.8774     \n",
      "Epoch 45/150\n",
      "1158/1158 [==============================] - 0s - loss: 0.4150 - acc: 0.8774     \n",
      "Epoch 46/150\n",
      "1158/1158 [==============================] - 0s - loss: 0.4180 - acc: 0.8774     \n",
      "Epoch 47/150\n",
      "1158/1158 [==============================] - 0s - loss: 0.4150 - acc: 0.8774     - ETA: 0s - loss: 0.4842 - acc: 0.\n",
      "Epoch 48/150\n",
      "1158/1158 [==============================] - 0s - loss: 0.4147 - acc: 0.8774     \n",
      "Epoch 49/150\n",
      "1158/1158 [==============================] - 0s - loss: 0.4124 - acc: 0.8774     \n",
      "Epoch 50/150\n",
      "1158/1158 [==============================] - 0s - loss: 0.4181 - acc: 0.8774     \n",
      "Epoch 51/150\n",
      "1158/1158 [==============================] - 0s - loss: 0.4145 - acc: 0.8774     \n",
      "Epoch 52/150\n",
      "1158/1158 [==============================] - 0s - loss: 0.4148 - acc: 0.8774     \n",
      "Epoch 53/150\n",
      "1158/1158 [==============================] - 0s - loss: 0.4124 - acc: 0.8774     \n",
      "Epoch 54/150\n",
      "1158/1158 [==============================] - 0s - loss: 0.4166 - acc: 0.8774     \n",
      "Epoch 55/150\n",
      "1158/1158 [==============================] - 0s - loss: 0.4152 - acc: 0.8774     \n",
      "Epoch 56/150\n",
      "1158/1158 [==============================] - 0s - loss: 0.4116 - acc: 0.8774     \n",
      "Epoch 57/150\n",
      "1158/1158 [==============================] - 0s - loss: 0.4134 - acc: 0.8774     \n",
      "Epoch 58/150\n",
      "1158/1158 [==============================] - 0s - loss: 0.4148 - acc: 0.8774     \n",
      "Epoch 59/150\n",
      "1158/1158 [==============================] - 0s - loss: 0.4156 - acc: 0.8774     \n",
      "Epoch 60/150\n",
      "1158/1158 [==============================] - 0s - loss: 0.4129 - acc: 0.8774     \n",
      "Epoch 61/150\n",
      "1158/1158 [==============================] - 0s - loss: 0.4174 - acc: 0.8774     \n",
      "Epoch 62/150\n",
      "1158/1158 [==============================] - 0s - loss: 0.4141 - acc: 0.8774     \n",
      "Epoch 63/150\n",
      "1158/1158 [==============================] - 0s - loss: 0.4125 - acc: 0.8774     \n",
      "Epoch 64/150\n",
      "1158/1158 [==============================] - 0s - loss: 0.4131 - acc: 0.8774     \n",
      "Epoch 65/150\n",
      "1158/1158 [==============================] - 0s - loss: 0.4131 - acc: 0.8774     \n",
      "Epoch 66/150\n",
      "1158/1158 [==============================] - 0s - loss: 0.4098 - acc: 0.8774     \n",
      "Epoch 67/150\n",
      "1158/1158 [==============================] - 0s - loss: 0.4127 - acc: 0.8774     \n",
      "Epoch 68/150\n",
      "1158/1158 [==============================] - 0s - loss: 0.4116 - acc: 0.8774     \n",
      "Epoch 69/150\n",
      "1158/1158 [==============================] - 0s - loss: 0.4117 - acc: 0.8774     \n",
      "Epoch 70/150\n",
      "1158/1158 [==============================] - 0s - loss: 0.4111 - acc: 0.8774     \n",
      "Epoch 71/150\n",
      "1158/1158 [==============================] - 0s - loss: 0.4150 - acc: 0.8774     - ETA: 0s - loss: 0.4275 - acc: 0.\n",
      "Epoch 72/150\n",
      "1158/1158 [==============================] - 0s - loss: 0.4137 - acc: 0.8774     \n",
      "Epoch 73/150\n",
      "1158/1158 [==============================] - 0s - loss: 0.4139 - acc: 0.8774     \n",
      "Epoch 74/150\n",
      "1158/1158 [==============================] - 0s - loss: 0.4091 - acc: 0.8774     \n",
      "Epoch 75/150\n",
      "1158/1158 [==============================] - 0s - loss: 0.4096 - acc: 0.8774     \n",
      "Epoch 76/150\n",
      "1158/1158 [==============================] - 0s - loss: 0.4107 - acc: 0.8774     \n",
      "Epoch 77/150\n",
      "1158/1158 [==============================] - 0s - loss: 0.4115 - acc: 0.8774     \n",
      "Epoch 78/150\n",
      "1158/1158 [==============================] - 0s - loss: 0.4066 - acc: 0.8774     \n",
      "Epoch 79/150\n",
      "1158/1158 [==============================] - 0s - loss: 0.4107 - acc: 0.8774     \n",
      "Epoch 80/150\n",
      "1158/1158 [==============================] - 0s - loss: 0.4107 - acc: 0.8774     \n",
      "Epoch 81/150\n",
      "1158/1158 [==============================] - 0s - loss: 0.4093 - acc: 0.8774     \n",
      "Epoch 82/150\n",
      "1158/1158 [==============================] - 0s - loss: 0.4090 - acc: 0.8774     \n",
      "Epoch 83/150\n",
      "1158/1158 [==============================] - 0s - loss: 0.4102 - acc: 0.8774     \n",
      "Epoch 84/150\n",
      "1158/1158 [==============================] - 0s - loss: 0.4094 - acc: 0.8774     \n",
      "Epoch 85/150\n",
      "1158/1158 [==============================] - 0s - loss: 0.4083 - acc: 0.8774     \n",
      "Epoch 86/150\n"
     ]
    },
    {
     "name": "stdout",
     "output_type": "stream",
     "text": [
      "1158/1158 [==============================] - 0s - loss: 0.4084 - acc: 0.8774     \n",
      "Epoch 87/150\n",
      "1158/1158 [==============================] - 0s - loss: 0.4080 - acc: 0.8774     \n",
      "Epoch 88/150\n",
      "1158/1158 [==============================] - 0s - loss: 0.4088 - acc: 0.8774     \n",
      "Epoch 89/150\n",
      "1158/1158 [==============================] - 0s - loss: 0.4085 - acc: 0.8774     \n",
      "Epoch 90/150\n",
      "1158/1158 [==============================] - 0s - loss: 0.4056 - acc: 0.8774     \n",
      "Epoch 91/150\n",
      "1158/1158 [==============================] - 0s - loss: 0.4036 - acc: 0.8774     \n",
      "Epoch 92/150\n",
      "1158/1158 [==============================] - 0s - loss: 0.4055 - acc: 0.8774     - ETA: 0s - loss: 0.4302 - acc: 0.\n",
      "Epoch 93/150\n",
      "1158/1158 [==============================] - 0s - loss: 0.4086 - acc: 0.8774     \n",
      "Epoch 94/150\n",
      "1158/1158 [==============================] - 0s - loss: 0.4062 - acc: 0.8774     \n",
      "Epoch 95/150\n",
      "1158/1158 [==============================] - 0s - loss: 0.4076 - acc: 0.8774     \n",
      "Epoch 96/150\n",
      "1158/1158 [==============================] - 0s - loss: 0.4055 - acc: 0.8774     \n",
      "Epoch 97/150\n",
      "1158/1158 [==============================] - 0s - loss: 0.4070 - acc: 0.8774     \n",
      "Epoch 98/150\n",
      "1158/1158 [==============================] - 0s - loss: 0.4025 - acc: 0.8774     \n",
      "Epoch 99/150\n",
      "1158/1158 [==============================] - 0s - loss: 0.4074 - acc: 0.8774     \n",
      "Epoch 100/150\n",
      "1158/1158 [==============================] - 0s - loss: 0.4060 - acc: 0.8774     \n",
      "Epoch 101/150\n",
      "1158/1158 [==============================] - 0s - loss: 0.4026 - acc: 0.8774     \n",
      "Epoch 102/150\n",
      "1158/1158 [==============================] - 0s - loss: 0.4036 - acc: 0.8774     \n",
      "Epoch 103/150\n",
      "1158/1158 [==============================] - 0s - loss: 0.4055 - acc: 0.8774     \n",
      "Epoch 104/150\n",
      "1158/1158 [==============================] - 0s - loss: 0.4106 - acc: 0.8774     \n",
      "Epoch 105/150\n",
      "1158/1158 [==============================] - 0s - loss: 0.4078 - acc: 0.8774     \n",
      "Epoch 106/150\n",
      "1158/1158 [==============================] - 0s - loss: 0.4055 - acc: 0.8774     \n",
      "Epoch 107/150\n",
      "1158/1158 [==============================] - 0s - loss: 0.4067 - acc: 0.8774     \n",
      "Epoch 108/150\n",
      "1158/1158 [==============================] - 0s - loss: 0.4048 - acc: 0.8774     \n",
      "Epoch 109/150\n",
      "1158/1158 [==============================] - 0s - loss: 0.4022 - acc: 0.8774     \n",
      "Epoch 110/150\n",
      "1158/1158 [==============================] - 0s - loss: 0.4029 - acc: 0.8774     \n",
      "Epoch 111/150\n",
      "1158/1158 [==============================] - 0s - loss: 0.4048 - acc: 0.8774     \n",
      "Epoch 112/150\n",
      "1158/1158 [==============================] - 0s - loss: 0.4040 - acc: 0.8774     \n",
      "Epoch 113/150\n",
      "1158/1158 [==============================] - 0s - loss: 0.4083 - acc: 0.8774     \n",
      "Epoch 114/150\n",
      "1158/1158 [==============================] - 0s - loss: 0.4032 - acc: 0.8774     \n",
      "Epoch 115/150\n",
      "1158/1158 [==============================] - 0s - loss: 0.4073 - acc: 0.8774     \n",
      "Epoch 116/150\n",
      "1158/1158 [==============================] - 0s - loss: 0.4030 - acc: 0.8774     \n",
      "Epoch 117/150\n",
      "1158/1158 [==============================] - 0s - loss: 0.4042 - acc: 0.8774     \n",
      "Epoch 118/150\n",
      "1158/1158 [==============================] - 0s - loss: 0.4032 - acc: 0.8774     \n",
      "Epoch 119/150\n",
      "1158/1158 [==============================] - 0s - loss: 0.4037 - acc: 0.8774     \n",
      "Epoch 120/150\n",
      "1158/1158 [==============================] - 0s - loss: 0.4040 - acc: 0.8774     \n",
      "Epoch 121/150\n",
      "1158/1158 [==============================] - 0s - loss: 0.4076 - acc: 0.8774     \n",
      "Epoch 122/150\n",
      "1158/1158 [==============================] - 0s - loss: 0.4033 - acc: 0.8774     \n",
      "Epoch 123/150\n",
      "1158/1158 [==============================] - 0s - loss: 0.4081 - acc: 0.8774     \n",
      "Epoch 124/150\n",
      "1158/1158 [==============================] - 0s - loss: 0.4099 - acc: 0.8774     \n",
      "Epoch 125/150\n",
      "1158/1158 [==============================] - 0s - loss: 0.4017 - acc: 0.8774     \n",
      "Epoch 126/150\n",
      "1158/1158 [==============================] - 0s - loss: 0.4079 - acc: 0.8774     \n",
      "Epoch 127/150\n",
      "1158/1158 [==============================] - 0s - loss: 0.4100 - acc: 0.8774     \n",
      "Epoch 128/150\n",
      "1158/1158 [==============================] - 0s - loss: 0.4043 - acc: 0.8774     \n",
      "Epoch 129/150\n",
      "1158/1158 [==============================] - 0s - loss: 0.4065 - acc: 0.8774     \n",
      "Epoch 130/150\n",
      "1158/1158 [==============================] - 0s - loss: 0.4040 - acc: 0.8774     - ETA: 0s - loss: 0.4332 - acc: 0.8\n",
      "Epoch 131/150\n",
      "1158/1158 [==============================] - 0s - loss: 0.4076 - acc: 0.8774     \n",
      "Epoch 132/150\n",
      "1158/1158 [==============================] - 0s - loss: 0.4054 - acc: 0.8774     \n",
      "Epoch 133/150\n",
      "1158/1158 [==============================] - 0s - loss: 0.4059 - acc: 0.8774     \n",
      "Epoch 134/150\n",
      "1158/1158 [==============================] - 0s - loss: 0.4043 - acc: 0.8774     \n",
      "Epoch 135/150\n",
      "1158/1158 [==============================] - 0s - loss: 0.4077 - acc: 0.8774     \n",
      "Epoch 136/150\n",
      "1158/1158 [==============================] - 0s - loss: 0.4018 - acc: 0.8774     \n",
      "Epoch 137/150\n",
      "1158/1158 [==============================] - 0s - loss: 0.4008 - acc: 0.8774     \n",
      "Epoch 138/150\n",
      "1158/1158 [==============================] - 0s - loss: 0.4020 - acc: 0.8774     \n",
      "Epoch 139/150\n",
      "1158/1158 [==============================] - 0s - loss: 0.4044 - acc: 0.8774     \n",
      "Epoch 140/150\n",
      "1158/1158 [==============================] - 0s - loss: 0.4116 - acc: 0.8774     \n",
      "Epoch 141/150\n",
      "1158/1158 [==============================] - 0s - loss: 0.4003 - acc: 0.8774     \n",
      "Epoch 142/150\n",
      "1158/1158 [==============================] - 0s - loss: 0.4073 - acc: 0.8774     \n",
      "Epoch 143/150\n",
      "1158/1158 [==============================] - 0s - loss: 0.4051 - acc: 0.8774     \n",
      "Epoch 144/150\n",
      "1158/1158 [==============================] - 0s - loss: 0.4032 - acc: 0.8774     \n",
      "Epoch 145/150\n",
      "1158/1158 [==============================] - 0s - loss: 0.4093 - acc: 0.8774     \n",
      "Epoch 146/150\n",
      "1158/1158 [==============================] - 0s - loss: 0.4042 - acc: 0.8774     \n",
      "Epoch 147/150\n",
      "1158/1158 [==============================] - 0s - loss: 0.4109 - acc: 0.8774     \n",
      "Epoch 148/150\n",
      "1158/1158 [==============================] - 0s - loss: 0.4058 - acc: 0.8774     \n",
      "Epoch 149/150\n",
      "1158/1158 [==============================] - 0s - loss: 0.4051 - acc: 0.8774     \n",
      "Epoch 150/150\n",
      "1158/1158 [==============================] - 0s - loss: 0.4072 - acc: 0.8774     \n"
     ]
    },
    {
     "data": {
      "text/plain": [
       "<keras.callbacks.History at 0x123ad8850>"
      ]
     },
     "execution_count": 87,
     "metadata": {},
     "output_type": "execute_result"
    }
   ],
   "source": [
    "# Fit the model\n",
    "X = df3[['Avg_temp', 'Rain', 'rela_hum', 'pressure', 'rain_day', 'sun_hr']].values\n",
    "y = df3['Level'].values\n",
    "X_train, X_test, y_train, y_test = cross_validation.train_test_split(\n",
    "    X, y, test_size=0.2, random_state=0)\n",
    "model.fit(X_train,y_train, epochs=150, batch_size=10)"
   ]
  },
  {
   "cell_type": "code",
   "execution_count": 88,
   "metadata": {},
   "outputs": [
    {
     "name": "stdout",
     "output_type": "stream",
     "text": [
      "[0.0, 0.0, 0.0, 0.0, 0.0, 0.0, 0.0, 0.0, 0.0, 0.0, 0.0, 0.0, 0.0, 0.0, 0.0, 0.0, 0.0, 0.0, 0.0, 0.0, 0.0, 0.0, 0.0, 0.0, 0.0, 0.0, 0.0, 0.0, 0.0, 0.0, 0.0, 0.0, 0.0, 0.0, 0.0, 0.0, 0.0, 0.0, 0.0, 0.0, 0.0, 0.0, 0.0, 0.0, 0.0, 0.0, 0.0, 0.0, 0.0, 0.0, 0.0, 0.0, 0.0, 0.0, 0.0, 0.0, 0.0, 0.0, 0.0, 0.0, 0.0, 0.0, 0.0, 0.0, 0.0, 0.0, 0.0, 0.0, 0.0, 0.0, 0.0, 0.0, 0.0, 0.0, 0.0, 0.0, 0.0, 0.0, 0.0, 0.0, 0.0, 0.0, 0.0, 0.0, 0.0, 0.0, 0.0, 0.0, 0.0, 0.0, 0.0, 0.0, 0.0, 0.0, 0.0, 0.0, 0.0, 0.0, 0.0, 0.0, 0.0, 0.0, 0.0, 0.0, 0.0, 0.0, 0.0, 0.0, 0.0, 0.0, 0.0, 0.0, 0.0, 0.0, 0.0, 0.0, 0.0, 0.0, 0.0, 0.0, 0.0, 0.0, 0.0, 0.0, 0.0, 0.0, 0.0, 0.0, 0.0, 0.0, 0.0, 0.0, 0.0, 0.0, 0.0, 0.0, 0.0, 0.0, 0.0, 0.0, 0.0, 0.0, 0.0, 0.0, 0.0, 0.0, 0.0, 0.0, 0.0, 0.0, 0.0, 0.0, 0.0, 0.0, 0.0, 0.0, 0.0, 0.0, 0.0, 0.0, 0.0, 0.0, 0.0, 0.0, 0.0, 0.0, 0.0, 0.0, 0.0, 0.0, 0.0, 0.0, 0.0, 0.0, 0.0, 0.0, 0.0, 0.0, 0.0, 0.0, 0.0, 0.0, 0.0, 0.0, 0.0, 0.0, 0.0, 0.0, 0.0, 0.0, 0.0, 0.0, 0.0, 0.0, 0.0, 0.0, 0.0, 0.0, 0.0, 0.0, 0.0, 0.0, 0.0, 0.0, 0.0, 0.0, 0.0, 0.0, 0.0, 0.0, 0.0, 0.0, 0.0, 0.0, 0.0, 0.0, 0.0, 0.0, 0.0, 0.0, 0.0, 0.0, 0.0, 0.0, 0.0, 0.0, 0.0, 0.0, 0.0, 0.0, 0.0, 0.0, 0.0, 0.0, 0.0, 0.0, 0.0, 0.0, 0.0, 0.0, 0.0, 0.0, 0.0, 0.0, 0.0, 0.0, 0.0, 0.0, 0.0, 0.0, 0.0, 0.0, 0.0, 0.0, 0.0, 0.0, 0.0, 0.0, 0.0, 0.0, 0.0, 0.0, 0.0, 0.0, 0.0, 0.0, 0.0, 0.0, 0.0, 0.0, 0.0, 0.0, 0.0, 0.0, 0.0, 0.0, 0.0, 0.0, 0.0, 0.0, 0.0, 0.0, 0.0, 0.0, 0.0, 0.0, 0.0, 0.0, 0.0, 0.0]\n"
     ]
    }
   ],
   "source": [
    "# calculate predictions, because i use the sigmoid \n",
    "predictions = model.predict(X_test)\n",
    "# round predictions\n",
    "rounded = [round(x) for x in predictions]\n",
    "print(rounded)"
   ]
  },
  {
   "cell_type": "code",
   "execution_count": null,
   "metadata": {
    "collapsed": true
   },
   "outputs": [],
   "source": []
  }
 ],
 "metadata": {
  "kernelspec": {
   "display_name": "Python 2",
   "language": "python",
   "name": "python2"
  },
  "language_info": {
   "codemirror_mode": {
    "name": "ipython",
    "version": 2
   },
   "file_extension": ".py",
   "mimetype": "text/x-python",
   "name": "python",
   "nbconvert_exporter": "python",
   "pygments_lexer": "ipython2",
   "version": "2.7.13"
  }
 },
 "nbformat": 4,
 "nbformat_minor": 2
}
