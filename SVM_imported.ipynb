{
 "cells": [
  {
   "cell_type": "code",
   "execution_count": 1,
   "metadata": {},
   "outputs": [
    {
     "name": "stderr",
     "output_type": "stream",
     "text": [
      "/Users/pipiterry/anaconda/lib/python2.7/site-packages/sklearn/cross_validation.py:44: DeprecationWarning: This module was deprecated in version 0.18 in favor of the model_selection module into which all the refactored classes and functions are moved. Also note that the interface of the new CV iterators are different from that of this module. This module will be removed in 0.20.\n",
      "  \"This module will be removed in 0.20.\", DeprecationWarning)\n",
      "/Users/pipiterry/anaconda/lib/python2.7/site-packages/statsmodels/compat/pandas.py:56: FutureWarning: The pandas.core.datetools module is deprecated and will be removed in a future version. Please use the pandas.tseries module instead.\n",
      "  from pandas.core import datetools\n"
     ]
    }
   ],
   "source": [
    "%matplotlib inline \n",
    "import matplotlib.pyplot as plt\n",
    "import numpy as np\n",
    "import pandas as pd\n",
    "from scipy import stats\n",
    "import seaborn as sns\n",
    "import warnings\n",
    "import random\n",
    "from sklearn.cross_validation import KFold, cross_val_score, train_test_split\n",
    "from sklearn import metrics\n",
    "import statsmodels.api as sm\n",
    "import scipy.stats as stats \n",
    "from sklearn.linear_model import LogisticRegression , LinearRegression\n",
    "\n",
    "from datetime import datetime\n",
    "random.seed(datetime.now())\n",
    "warnings.filterwarnings('ignore')\n",
    "\n",
    "# Make plots larger\n",
    "plt.rcParams['figure.figsize'] = (10, 6)\n",
    "\n",
    "import os.path\n",
    "userhome = os.path.expanduser('~')\n",
    "csvfile = os.path.join(userhome, 'Desktop', 'final', 'Dengue_Daily_EN.csv')\n",
    "df = pd.read_csv(csvfile)"
   ]
  },
  {
   "cell_type": "code",
   "execution_count": 2,
   "metadata": {},
   "outputs": [
    {
     "data": {
      "text/html": [
       "<div>\n",
       "<style>\n",
       "    .dataframe thead tr:only-child th {\n",
       "        text-align: right;\n",
       "    }\n",
       "\n",
       "    .dataframe thead th {\n",
       "        text-align: left;\n",
       "    }\n",
       "\n",
       "    .dataframe tbody tr th {\n",
       "        vertical-align: top;\n",
       "    }\n",
       "</style>\n",
       "<table border=\"1\" class=\"dataframe\">\n",
       "  <thead>\n",
       "    <tr style=\"text-align: right;\">\n",
       "      <th></th>\n",
       "      <th>Date_Onset</th>\n",
       "      <th>Date_Notification</th>\n",
       "      <th>Sex</th>\n",
       "      <th>Age_Group</th>\n",
       "      <th>County_living</th>\n",
       "      <th>Township_living</th>\n",
       "      <th>Enumeration_unit</th>\n",
       "      <th>Enumeration_unit_long</th>\n",
       "      <th>Enumeration_unit_lat</th>\n",
       "      <th>First_level_dissemination_unit</th>\n",
       "      <th>Second_level_dissemination_unit</th>\n",
       "      <th>Imported</th>\n",
       "      <th>Number_of_confirmed_cases</th>\n",
       "      <th>Serotype</th>\n",
       "      <th>MOI_County_living_Code</th>\n",
       "      <th>MOI_Township_living_Code</th>\n",
       "      <th>MOI_County_living</th>\n",
       "      <th>MOI_Township_living</th>\n",
       "    </tr>\n",
       "  </thead>\n",
       "  <tbody>\n",
       "    <tr>\n",
       "      <th>0</th>\n",
       "      <td>1998/01/02</td>\n",
       "      <td>1998/01/07</td>\n",
       "      <td>M</td>\n",
       "      <td>40-44</td>\n",
       "      <td>Pingtung County</td>\n",
       "      <td>Pingtung City</td>\n",
       "      <td>A1320-0136-00</td>\n",
       "      <td>120.50588</td>\n",
       "      <td>22.46425</td>\n",
       "      <td>A1320-04-008</td>\n",
       "      <td>A1320-04</td>\n",
       "      <td>N</td>\n",
       "      <td>1</td>\n",
       "      <td>NaN</td>\n",
       "      <td>10013.0</td>\n",
       "      <td>1001301.0</td>\n",
       "      <td>Pingtung County</td>\n",
       "      <td>Pingtung City</td>\n",
       "    </tr>\n",
       "    <tr>\n",
       "      <th>1</th>\n",
       "      <td>1998/01/03</td>\n",
       "      <td>1998/01/14</td>\n",
       "      <td>M</td>\n",
       "      <td>30-34</td>\n",
       "      <td>Pingtung County</td>\n",
       "      <td>Donggang Township</td>\n",
       "      <td>A1303-0150-00</td>\n",
       "      <td>120.45364</td>\n",
       "      <td>22.46639</td>\n",
       "      <td>A1303-09-007</td>\n",
       "      <td>A1303-09</td>\n",
       "      <td>Y</td>\n",
       "      <td>1</td>\n",
       "      <td>DENV2</td>\n",
       "      <td>10013.0</td>\n",
       "      <td>1001303.0</td>\n",
       "      <td>Pingtung County</td>\n",
       "      <td>Donggang Township</td>\n",
       "    </tr>\n",
       "    <tr>\n",
       "      <th>2</th>\n",
       "      <td>1998/01/13</td>\n",
       "      <td>1998/02/18</td>\n",
       "      <td>M</td>\n",
       "      <td>55-59</td>\n",
       "      <td>Yilan County</td>\n",
       "      <td>Yilan City</td>\n",
       "      <td>A0201-0449-00</td>\n",
       "      <td>121.75143</td>\n",
       "      <td>24.74922</td>\n",
       "      <td>A0201-23-006</td>\n",
       "      <td>A0201-23</td>\n",
       "      <td>Y</td>\n",
       "      <td>1</td>\n",
       "      <td>NaN</td>\n",
       "      <td>10002.0</td>\n",
       "      <td>1000201.0</td>\n",
       "      <td>Yilan County</td>\n",
       "      <td>Yilan City</td>\n",
       "    </tr>\n",
       "    <tr>\n",
       "      <th>3</th>\n",
       "      <td>1998/01/15</td>\n",
       "      <td>1998/01/23</td>\n",
       "      <td>M</td>\n",
       "      <td>35-39</td>\n",
       "      <td>Kaohsiung City</td>\n",
       "      <td>Lingya Dist.</td>\n",
       "      <td>A6408-0153-00</td>\n",
       "      <td>120.33814</td>\n",
       "      <td>22.63032</td>\n",
       "      <td>A6408-10-010</td>\n",
       "      <td>A6408-10</td>\n",
       "      <td>N</td>\n",
       "      <td>1</td>\n",
       "      <td>NaN</td>\n",
       "      <td>64.0</td>\n",
       "      <td>6400800.0</td>\n",
       "      <td>Kaohsiung City</td>\n",
       "      <td>Lingya District</td>\n",
       "    </tr>\n",
       "    <tr>\n",
       "      <th>4</th>\n",
       "      <td>1998/01/20</td>\n",
       "      <td>1998/02/04</td>\n",
       "      <td>M</td>\n",
       "      <td>55-59</td>\n",
       "      <td>Yilan County</td>\n",
       "      <td>Wujie Township</td>\n",
       "      <td>A0209-0232-00</td>\n",
       "      <td>121.79826</td>\n",
       "      <td>24.68457</td>\n",
       "      <td>A0209-10-005</td>\n",
       "      <td>A0209-10</td>\n",
       "      <td>N</td>\n",
       "      <td>1</td>\n",
       "      <td>NaN</td>\n",
       "      <td>10002.0</td>\n",
       "      <td>1000209.0</td>\n",
       "      <td>Yilan County</td>\n",
       "      <td>Wujie Township</td>\n",
       "    </tr>\n",
       "  </tbody>\n",
       "</table>\n",
       "</div>"
      ],
      "text/plain": [
       "   Date_Onset Date_Notification Sex Age_Group    County_living  \\\n",
       "0  1998/01/02        1998/01/07   M     40-44  Pingtung County   \n",
       "1  1998/01/03        1998/01/14   M     30-34  Pingtung County   \n",
       "2  1998/01/13        1998/02/18   M     55-59     Yilan County   \n",
       "3  1998/01/15        1998/01/23   M     35-39   Kaohsiung City   \n",
       "4  1998/01/20        1998/02/04   M     55-59     Yilan County   \n",
       "\n",
       "     Township_living Enumeration_unit  Enumeration_unit_long  \\\n",
       "0      Pingtung City    A1320-0136-00              120.50588   \n",
       "1  Donggang Township    A1303-0150-00              120.45364   \n",
       "2         Yilan City    A0201-0449-00              121.75143   \n",
       "3       Lingya Dist.    A6408-0153-00              120.33814   \n",
       "4     Wujie Township    A0209-0232-00              121.79826   \n",
       "\n",
       "   Enumeration_unit_lat First_level_dissemination_unit  \\\n",
       "0              22.46425                   A1320-04-008   \n",
       "1              22.46639                   A1303-09-007   \n",
       "2              24.74922                   A0201-23-006   \n",
       "3              22.63032                   A6408-10-010   \n",
       "4              24.68457                   A0209-10-005   \n",
       "\n",
       "  Second_level_dissemination_unit Imported  Number_of_confirmed_cases  \\\n",
       "0                        A1320-04        N                          1   \n",
       "1                        A1303-09        Y                          1   \n",
       "2                        A0201-23        Y                          1   \n",
       "3                        A6408-10        N                          1   \n",
       "4                        A0209-10        N                          1   \n",
       "\n",
       "  Serotype  MOI_County_living_Code  MOI_Township_living_Code  \\\n",
       "0      NaN                 10013.0                 1001301.0   \n",
       "1    DENV2                 10013.0                 1001303.0   \n",
       "2      NaN                 10002.0                 1000201.0   \n",
       "3      NaN                    64.0                 6400800.0   \n",
       "4      NaN                 10002.0                 1000209.0   \n",
       "\n",
       "  MOI_County_living MOI_Township_living  \n",
       "0   Pingtung County       Pingtung City  \n",
       "1   Pingtung County   Donggang Township  \n",
       "2      Yilan County          Yilan City  \n",
       "3    Kaohsiung City     Lingya District  \n",
       "4      Yilan County      Wujie Township  "
      ]
     },
     "execution_count": 2,
     "metadata": {},
     "output_type": "execute_result"
    }
   ],
   "source": [
    "df.drop(df.columns[[1,7,8,14,15,16,17,19,26,27,28,29]], axis=1, inplace=True)\n",
    "df.head()"
   ]
  },
  {
   "cell_type": "code",
   "execution_count": 3,
   "metadata": {},
   "outputs": [
    {
     "data": {
      "text/plain": [
       "['0-9',\n",
       " '10-14',\n",
       " '15-19',\n",
       " '20-24',\n",
       " '25-29',\n",
       " '30-34',\n",
       " '35-39',\n",
       " '40-44',\n",
       " '45-49',\n",
       " '50-54',\n",
       " '55-59',\n",
       " '60-64',\n",
       " '65-69',\n",
       " '70+']"
      ]
     },
     "execution_count": 3,
     "metadata": {},
     "output_type": "execute_result"
    }
   ],
   "source": [
    "#這裡開始是把文字描述變成數字去呈現\n",
    "from sklearn.preprocessing import LabelEncoder\n",
    "from sklearn import preprocessing\n",
    "from sklearn import cross_validation\n",
    "from sklearn.linear_model import LogisticRegression\n",
    "from sklearn import metrics\n",
    "le=preprocessing.LabelEncoder()\n",
    "le.fit(df.Age_Group)\n",
    "list(le.classes_)\n",
    "df['Age_Group'].replace('0', '0-9', inplace=True)\n",
    "df['Age_Group'].replace('1', '0-9', inplace=True)\n",
    "df['Age_Group'].replace('2', '0-9', inplace=True)\n",
    "df['Age_Group'].replace('3', '0-9', inplace=True)\n",
    "df['Age_Group'].replace('4', '0-9', inplace=True)\n",
    "df['Age_Group'].replace('5-9', '0-9', inplace=True)\n",
    "le.fit(df.Age_Group)\n",
    "list(le.classes_)"
   ]
  },
  {
   "cell_type": "code",
   "execution_count": 4,
   "metadata": {
    "collapsed": true
   },
   "outputs": [],
   "source": [
    "df.Age_Group=le.transform(df.Age_Group)"
   ]
  },
  {
   "cell_type": "code",
   "execution_count": 5,
   "metadata": {
    "collapsed": true
   },
   "outputs": [],
   "source": [
    "#清掉空資料的情況，U表示有不知道\n",
    "df['Sex'].replace('U', np.nan, inplace=True)\n",
    "df.dropna(subset=['Sex'], inplace=True)\n",
    "le.fit(df.Sex)\n",
    "list(le.classes_)\n",
    "df.Sex=le.transform(df.Sex)"
   ]
  },
  {
   "cell_type": "code",
   "execution_count": 6,
   "metadata": {},
   "outputs": [
    {
     "data": {
      "text/plain": [
       "Date_Onset                         False\n",
       "Date_Notification                  False\n",
       "Sex                                False\n",
       "Age_Group                          False\n",
       "County_living                      False\n",
       "Township_living                    False\n",
       "Enumeration_unit                    True\n",
       "Enumeration_unit_long               True\n",
       "Enumeration_unit_lat                True\n",
       "First_level_dissemination_unit      True\n",
       "Second_level_dissemination_unit     True\n",
       "Imported                           False\n",
       "Number_of_confirmed_cases          False\n",
       "Serotype                            True\n",
       "MOI_County_living_Code              True\n",
       "MOI_Township_living_Code            True\n",
       "MOI_County_living                   True\n",
       "MOI_Township_living                 True\n",
       "dtype: bool"
      ]
     },
     "execution_count": 6,
     "metadata": {},
     "output_type": "execute_result"
    }
   ],
   "source": [
    "#all\n",
    "df.isnull().any()"
   ]
  },
  {
   "cell_type": "code",
   "execution_count": 8,
   "metadata": {},
   "outputs": [
    {
     "data": {
      "text/plain": [
       "Date_Onset                         False\n",
       "Date_Notification                  False\n",
       "Sex                                False\n",
       "Age_Group                          False\n",
       "County_living                      False\n",
       "Township_living                    False\n",
       "Enumeration_unit                   False\n",
       "Enumeration_unit_long              False\n",
       "Enumeration_unit_lat               False\n",
       "First_level_dissemination_unit     False\n",
       "Second_level_dissemination_unit    False\n",
       "Imported                           False\n",
       "Number_of_confirmed_cases          False\n",
       "Serotype                            True\n",
       "MOI_County_living_Code              True\n",
       "MOI_Township_living_Code            True\n",
       "MOI_County_living                   True\n",
       "MOI_Township_living                 True\n",
       "dtype: bool"
      ]
     },
     "execution_count": 8,
     "metadata": {},
     "output_type": "execute_result"
    }
   ],
   "source": [
    "#清掉空資料的情況，true表示有空集合\n",
    "df['Enumeration_unit_long'].replace('', np.nan, inplace=True)\n",
    "df.dropna(subset=['Enumeration_unit_long'], inplace=True)\n",
    "df.isnull().any()"
   ]
  },
  {
   "cell_type": "code",
   "execution_count": 9,
   "metadata": {},
   "outputs": [
    {
     "data": {
      "text/plain": [
       "((54672, 4), (54672,))"
      ]
     },
     "execution_count": 9,
     "metadata": {},
     "output_type": "execute_result"
    }
   ],
   "source": [
    "from sklearn import preprocessing\n",
    "from sklearn.svm import SVC\n",
    "model = SVC()\n",
    "X = np.array(df[['Age_Group','Sex','Enumeration_unit_long','Enumeration_unit_lat']])\n",
    "Y = np.array(df['Imported'])\n",
    "X_train, X_test, y_train, y_test = train_test_split(X, Y, test_size=0.3, random_state=0)\n",
    "X_train.shape,y_train.shape"
   ]
  },
  {
   "cell_type": "code",
   "execution_count": 10,
   "metadata": {},
   "outputs": [
    {
     "name": "stdout",
     "output_type": "stream",
     "text": [
      "[[22239   208]\n",
      " [  276   709]]\n",
      "\n",
      "\n",
      "             precision    recall  f1-score   support\n",
      "\n",
      "          N       0.99      0.99      0.99     22447\n",
      "          Y       0.77      0.72      0.75       985\n",
      "\n",
      "avg / total       0.98      0.98      0.98     23432\n",
      "\n"
     ]
    }
   ],
   "source": [
    "#使用Support Vector Classifier來建立模型\n",
    "model.fit(X_train,y_train)\n",
    "predictions = model.predict(X_test)\n",
    "\n",
    "#載入classification_report & confusion_matrix來評估模型好壞\n",
    "from sklearn.metrics import classification_report,confusion_matrix\n",
    "print(confusion_matrix(y_test,predictions))\n",
    "print('\\n')\n",
    "print(classification_report(y_test,predictions))"
   ]
  },
  {
   "cell_type": "code",
   "execution_count": 11,
   "metadata": {},
   "outputs": [
    {
     "data": {
      "text/plain": [
       "array(['N', 'N', 'N', ..., 'N', 'N', 'N'], dtype=object)"
      ]
     },
     "execution_count": 11,
     "metadata": {},
     "output_type": "execute_result"
    }
   ],
   "source": [
    "model.predict(X_test)"
   ]
  },
  {
   "cell_type": "code",
   "execution_count": 12,
   "metadata": {},
   "outputs": [
    {
     "data": {
      "text/plain": [
       "0.97934448617275516"
      ]
     },
     "execution_count": 12,
     "metadata": {},
     "output_type": "execute_result"
    }
   ],
   "source": [
    "model.score(X_test, y_test)"
   ]
  },
  {
   "cell_type": "code",
   "execution_count": null,
   "metadata": {
    "scrolled": false
   },
   "outputs": [],
   "source": [
    "from sklearn.model_selection import GridSearchCV\n",
    "\n",
    "#GridSearchCV是建立一個dictionary來組合要測試的參數\n",
    "param_grid = {'C':[0.1,1,10,100,1000],'gamma':[1,0.1,0.01,0.001,0.0001]}\n",
    "\n",
    "#GridSearchCV算是一個meta-estimator，參數中帶有estimator，像是SVC，重點是會創造一個新的estimator，但又表現的一模一樣。\n",
    "#也就是estimator=SVC時，就是作為分類器\n",
    "#Verbose可設定為任一整數，它只是代表數字越高，文字解釋越多\n",
    "grid = GridSearchCV(SVC(),param_grid,verbose=3)\n",
    "\n",
    "#利用剛剛設定的參數來找到最適合的模型\n",
    "grid.fit(X_train,y_train)\n",
    "\n",
    "#顯示最佳參數組合\n",
    "grid.best_params_\n",
    "\n",
    "#顯示最佳estimator參數\n",
    "grid.best_estimator_\n",
    "\n",
    "#利用剛剛的最佳參數再重新預測測試組\n",
    "grid_predictions = grid.predict(X_test)\n",
    "\n",
    "#評估新參數的預測結果好壞\n",
    "print(confusion_matrix(y_test,predictions))\n",
    "print('\\n')\n",
    "print(classification_report(y_test,grid_predictions))"
   ]
  },
  {
   "cell_type": "code",
   "execution_count": null,
   "metadata": {
    "collapsed": true
   },
   "outputs": [],
   "source": []
  }
 ],
 "metadata": {
  "kernelspec": {
   "display_name": "Python 2",
   "language": "python",
   "name": "python2"
  },
  "language_info": {
   "codemirror_mode": {
    "name": "ipython",
    "version": 2
   },
   "file_extension": ".py",
   "mimetype": "text/x-python",
   "name": "python",
   "nbconvert_exporter": "python",
   "pygments_lexer": "ipython2",
   "version": "2.7.13"
  }
 },
 "nbformat": 4,
 "nbformat_minor": 2
}
